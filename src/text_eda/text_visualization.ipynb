{
 "cells": [
  {
   "cell_type": "code",
   "execution_count": 1,
   "id": "edd51d88-1f96-4819-b2ed-520051a9949a",
   "metadata": {},
   "outputs": [
    {
     "name": "stdout",
     "output_type": "stream",
     "text": [
      "INFO: Pandarallel will run on 12 workers.\n",
      "INFO: Pandarallel will use standard multiprocessing data transfer (pipe) to transfer data between the main process and workers.\n",
      "\n",
      "WARNING: You are on Windows. If you detect any issue with pandarallel, be sure you checked out the Troubleshooting page:\n",
      "https://nalepae.github.io/pandarallel/troubleshooting/\n"
     ]
    }
   ],
   "source": [
    "import pandas as pd\n",
    "import numpy as np\n",
    "\n",
    "from wordcloud import WordCloud\n",
    "\n",
    "from typing import Callable\n",
    "\n",
    "import matplotlib.pyplot as plt\n",
    "import seaborn as sns\n",
    "\n",
    "from nltk.corpus import stopwords\n",
    "\n",
    "import textstat\n",
    "from razdel import tokenize\n",
    "\n",
    "from tqdm.notebook import tqdm\n",
    "tqdm.pandas()\n",
    "\n",
    "from pandarallel import pandarallel\n",
    "pandarallel.initialize(nb_workers=12, progress_bar=True)\n",
    "\n",
    "from sklearn.model_selection import train_test_split"
   ]
  },
  {
   "cell_type": "code",
   "execution_count": 2,
   "id": "41894bf4-ec90-4d2c-a555-46ee0c0c9a0a",
   "metadata": {},
   "outputs": [
    {
     "data": {
      "text/html": [
       "<div>\n",
       "<style scoped>\n",
       "    .dataframe tbody tr th:only-of-type {\n",
       "        vertical-align: middle;\n",
       "    }\n",
       "\n",
       "    .dataframe tbody tr th {\n",
       "        vertical-align: top;\n",
       "    }\n",
       "\n",
       "    .dataframe thead th {\n",
       "        text-align: right;\n",
       "    }\n",
       "</style>\n",
       "<table border=\"1\" class=\"dataframe\">\n",
       "  <thead>\n",
       "    <tr style=\"text-align: right;\">\n",
       "      <th></th>\n",
       "      <th>review</th>\n",
       "      <th>is_AI</th>\n",
       "    </tr>\n",
       "  </thead>\n",
       "  <tbody>\n",
       "    <tr>\n",
       "      <th>0</th>\n",
       "      <td>Жаль, крем не оправдал ожиданий. Заявленный эф...</td>\n",
       "      <td>1</td>\n",
       "    </tr>\n",
       "    <tr>\n",
       "      <th>1</th>\n",
       "      <td>Платье красивое, но мне пришло с браком, очень...</td>\n",
       "      <td>0</td>\n",
       "    </tr>\n",
       "    <tr>\n",
       "      <th>2</th>\n",
       "      <td>Посылка пришла в непотребном виде.Получила на ...</td>\n",
       "      <td>0</td>\n",
       "    </tr>\n",
       "    <tr>\n",
       "      <th>3</th>\n",
       "      <td>Маленький принц’, 12+, оказался совсем не мале...</td>\n",
       "      <td>1</td>\n",
       "    </tr>\n",
       "    <tr>\n",
       "      <th>4</th>\n",
       "      <td>Адовая синтетика, но что за такую цену можно в...</td>\n",
       "      <td>0</td>\n",
       "    </tr>\n",
       "    <tr>\n",
       "      <th>...</th>\n",
       "      <td>...</td>\n",
       "      <td>...</td>\n",
       "    </tr>\n",
       "    <tr>\n",
       "      <th>4685</th>\n",
       "      <td>Платье полностью не соответствует размеруXXL,к...</td>\n",
       "      <td>0</td>\n",
       "    </tr>\n",
       "    <tr>\n",
       "      <th>4686</th>\n",
       "      <td>Качество хорошее, свитер пушистый. Но размер н...</td>\n",
       "      <td>0</td>\n",
       "    </tr>\n",
       "    <tr>\n",
       "      <th>4687</th>\n",
       "      <td>Три месяца ждала заказ , так и не дождалась.\\r...</td>\n",
       "      <td>0</td>\n",
       "    </tr>\n",
       "    <tr>\n",
       "      <th>4688</th>\n",
       "      <td>Заказ не пришёл. Деньги вернули</td>\n",
       "      <td>0</td>\n",
       "    </tr>\n",
       "    <tr>\n",
       "      <th>4689</th>\n",
       "      <td>Отличные брюки. Тёмно-синий цвет подходит к мо...</td>\n",
       "      <td>1</td>\n",
       "    </tr>\n",
       "  </tbody>\n",
       "</table>\n",
       "<p>23446 rows × 2 columns</p>\n",
       "</div>"
      ],
      "text/plain": [
       "                                                 review  is_AI\n",
       "0     Жаль, крем не оправдал ожиданий. Заявленный эф...      1\n",
       "1     Платье красивое, но мне пришло с браком, очень...      0\n",
       "2     Посылка пришла в непотребном виде.Получила на ...      0\n",
       "3     Маленький принц’, 12+, оказался совсем не мале...      1\n",
       "4     Адовая синтетика, но что за такую цену можно в...      0\n",
       "...                                                 ...    ...\n",
       "4685  Платье полностью не соответствует размеруXXL,к...      0\n",
       "4686  Качество хорошее, свитер пушистый. Но размер н...      0\n",
       "4687  Три месяца ждала заказ , так и не дождалась.\\r...      0\n",
       "4688                   Заказ не пришёл. Деньги вернули       0\n",
       "4689  Отличные брюки. Тёмно-синий цвет подходит к мо...      1\n",
       "\n",
       "[23446 rows x 2 columns]"
      ]
     },
     "execution_count": 2,
     "metadata": {},
     "output_type": "execute_result"
    }
   ],
   "source": [
    "train = pd.read_csv('../../data/train_unique_reviews.csv')\n",
    "test = pd.read_csv('../../data/test_unique_reviews.csv')\n",
    "\n",
    "reviews = pd.concat([train, test], axis=0)\n",
    "reviews"
   ]
  },
  {
   "cell_type": "code",
   "execution_count": 3,
   "id": "83614797-0e10-45af-a4ea-d9ef10fb667e",
   "metadata": {
    "scrolled": true
   },
   "outputs": [
    {
     "data": {
      "text/html": [
       "<div>\n",
       "<style scoped>\n",
       "    .dataframe tbody tr th:only-of-type {\n",
       "        vertical-align: middle;\n",
       "    }\n",
       "\n",
       "    .dataframe tbody tr th {\n",
       "        vertical-align: top;\n",
       "    }\n",
       "\n",
       "    .dataframe thead th {\n",
       "        text-align: right;\n",
       "    }\n",
       "</style>\n",
       "<table border=\"1\" class=\"dataframe\">\n",
       "  <thead>\n",
       "    <tr style=\"text-align: right;\">\n",
       "      <th></th>\n",
       "      <th>review</th>\n",
       "      <th>is_AI</th>\n",
       "    </tr>\n",
       "  </thead>\n",
       "  <tbody>\n",
       "    <tr>\n",
       "      <th>0</th>\n",
       "      <td>Жаль, крем не оправдал ожиданий. Заявленный эф...</td>\n",
       "      <td>1</td>\n",
       "    </tr>\n",
       "    <tr>\n",
       "      <th>1</th>\n",
       "      <td>Платье красивое, но мне пришло с браком, очень...</td>\n",
       "      <td>0</td>\n",
       "    </tr>\n",
       "    <tr>\n",
       "      <th>2</th>\n",
       "      <td>Посылка пришла в непотребном виде.Получила на ...</td>\n",
       "      <td>0</td>\n",
       "    </tr>\n",
       "    <tr>\n",
       "      <th>3</th>\n",
       "      <td>Маленький принц’, 12+, оказался совсем не мале...</td>\n",
       "      <td>1</td>\n",
       "    </tr>\n",
       "    <tr>\n",
       "      <th>4</th>\n",
       "      <td>Адовая синтетика, но что за такую цену можно в...</td>\n",
       "      <td>0</td>\n",
       "    </tr>\n",
       "    <tr>\n",
       "      <th>...</th>\n",
       "      <td>...</td>\n",
       "      <td>...</td>\n",
       "    </tr>\n",
       "    <tr>\n",
       "      <th>4685</th>\n",
       "      <td>Платье полностью не соответствует размеруXXL,к...</td>\n",
       "      <td>0</td>\n",
       "    </tr>\n",
       "    <tr>\n",
       "      <th>4686</th>\n",
       "      <td>Качество хорошее, свитер пушистый. Но размер н...</td>\n",
       "      <td>0</td>\n",
       "    </tr>\n",
       "    <tr>\n",
       "      <th>4687</th>\n",
       "      <td>Три месяца ждала заказ , так и не дождалась.\\r...</td>\n",
       "      <td>0</td>\n",
       "    </tr>\n",
       "    <tr>\n",
       "      <th>4688</th>\n",
       "      <td>Заказ не пришёл. Деньги вернули</td>\n",
       "      <td>0</td>\n",
       "    </tr>\n",
       "    <tr>\n",
       "      <th>4689</th>\n",
       "      <td>Отличные брюки. Тёмно-синий цвет подходит к мо...</td>\n",
       "      <td>1</td>\n",
       "    </tr>\n",
       "  </tbody>\n",
       "</table>\n",
       "<p>23446 rows × 2 columns</p>\n",
       "</div>"
      ],
      "text/plain": [
       "                                                 review  is_AI\n",
       "0     Жаль, крем не оправдал ожиданий. Заявленный эф...      1\n",
       "1     Платье красивое, но мне пришло с браком, очень...      0\n",
       "2     Посылка пришла в непотребном виде.Получила на ...      0\n",
       "3     Маленький принц’, 12+, оказался совсем не мале...      1\n",
       "4     Адовая синтетика, но что за такую цену можно в...      0\n",
       "...                                                 ...    ...\n",
       "4685  Платье полностью не соответствует размеруXXL,к...      0\n",
       "4686  Качество хорошее, свитер пушистый. Но размер н...      0\n",
       "4687  Три месяца ждала заказ , так и не дождалась.\\r...      0\n",
       "4688                   Заказ не пришёл. Деньги вернули       0\n",
       "4689  Отличные брюки. Тёмно-синий цвет подходит к мо...      1\n",
       "\n",
       "[23446 rows x 2 columns]"
      ]
     },
     "execution_count": 3,
     "metadata": {},
     "output_type": "execute_result"
    }
   ],
   "source": [
    "reviews"
   ]
  },
  {
   "cell_type": "markdown",
   "id": "cfbc7b05-f342-44d2-bead-38f231757c30",
   "metadata": {
    "jp-MarkdownHeadingCollapsed": true
   },
   "source": [
    "### WordCloud"
   ]
  },
  {
   "cell_type": "code",
   "execution_count": 68,
   "id": "569fdfd7-045b-4c55-b0fc-51bc39c66427",
   "metadata": {},
   "outputs": [
    {
     "name": "stdout",
     "output_type": "stream",
     "text": [
      "CPU times: total: 4.75 s\n",
      "Wall time: 10.9 s\n"
     ]
    },
    {
     "data": {
      "image/png": "[encoded data removed]",
      "text/plain": [
       "<Figure size 640x480 with 1 Axes>"
      ]
     },
     "metadata": {},
     "output_type": "display_data"
    }
   ],
   "source": [
    "%%time\n",
    "\n",
    "merged_text = reviews['review'].str.cat(sep=' ').lower()\n",
    "\n",
    "wc = WordCloud(width=1920, height=1080, background_color=\"white\").generate(merged_text)\n",
    "plt.imshow(wc)\n",
    "plt.axis(\"off\");"
   ]
  },
  {
   "cell_type": "code",
   "execution_count": 69,
   "id": "23d7d419-03fa-4224-8136-637aeb3d0c68",
   "metadata": {},
   "outputs": [
    {
     "name": "stdout",
     "output_type": "stream",
     "text": [
      "CPU times: total: 4.52 s\n",
      "Wall time: 10.3 s\n"
     ]
    },
    {
     "data": {
      "image/png": "[encoded data removed]",
      "text/plain": [
       "<Figure size 640x480 with 1 Axes>"
      ]
     },
     "metadata": {},
     "output_type": "display_data"
    }
   ],
   "source": [
    "%%time\n",
    "\n",
    "merged_text = reviews['review'].str.cat(sep=' ').lower()\n",
    "stop_words = set(stopwords.words('russian'))\n",
    "filtered_words = [word for word in merged_text.split() if word not in stop_words]\n",
    "filtered_text = ' '.join(filtered_words)\n",
    "\n",
    "wc = WordCloud(width=1920, height=1080, background_color=\"white\").generate(filtered_text)\n",
    "plt.imshow(wc)\n",
    "plt.axis(\"off\");"
   ]
  },
  {
   "cell_type": "code",
   "execution_count": null,
   "id": "e79149ec-9b9a-4bf1-a9c1-28949dcbbc2f",
   "metadata": {},
   "outputs": [],
   "source": [
    "%%time\n",
    "\n",
    "merged_text = reviews['review'].str.cat(sep=' ').lower()\n",
    "stop_words = set(stopwords.words('russian'))\n",
    "stop_words.remove('не')\n",
    "filtered_words = [word for word in merged_text.split() if word not in stop_words]\n",
    "filtered_text = ' '.join(filtered_words)\n",
    "\n",
    "wc = WordCloud(width=1920, height=1080, background_color=\"white\").generate(filtered_text)\n",
    "plt.imshow(wc)\n",
    "plt.axis(\"off\");"
   ]
  },
  {
   "cell_type": "code",
   "execution_count": null,
   "id": "09b1b84e-0908-42d6-bdf6-f6a2a80eee5f",
   "metadata": {},
   "outputs": [],
   "source": [
    "from pymorphy3 import MorphAnalyzer\n",
    "\n",
    "morph = MorphAnalyzer()\n",
    "morph.parse('машина')[0].normal_form"
   ]
  },
  {
   "cell_type": "markdown",
   "id": "97bbaea2-6b5c-4fa0-b056-83289eda07db",
   "metadata": {},
   "source": [
    "### Text Cleaning"
   ]
  },
  {
   "cell_type": "code",
   "execution_count": 4,
   "id": "87a0788f-7ccc-4bfb-a73c-1e7b6a219613",
   "metadata": {},
   "outputs": [],
   "source": [
    "def clean_text(text):\n",
    "    from razdel import tokenize\n",
    "    from pymorphy3 import MorphAnalyzer\n",
    "    from nltk.corpus import stopwords\n",
    "\n",
    "    text = text.lower()\n",
    "\n",
    "    sw_to_drop = ['не']\n",
    "    \n",
    "    morph = MorphAnalyzer()\n",
    "    sws = set(stopwords.words('russian'))\n",
    "\n",
    "    for sw in sw_to_drop:\n",
    "        sws.remove(sw)\n",
    "    \n",
    "    tokens = tokenize(text)\n",
    "    tokens = [morph.parse(token.text)[0].normal_form for token in tokens]\n",
    "    tokens = [token for token in tokens if token not in sws]\n",
    "\n",
    "    return ' '.join(tokens) "
   ]
  },
  {
   "cell_type": "code",
   "execution_count": 5,
   "id": "8232b189-0b38-4262-8af3-fb86d77e1cc5",
   "metadata": {},
   "outputs": [
    {
     "data": {
      "application/vnd.jupyter.widget-view+json": {
       "model_id": "2ae19ad5540941c9a527a0ae02f56ee7",
       "version_major": 2,
       "version_minor": 0
      },
      "text/plain": [
       "VBox(children=(HBox(children=(IntProgress(value=0, description='0.00%', max=1954), Label(value='0 / 1954'))), …"
      ]
     },
     "metadata": {},
     "output_type": "display_data"
    }
   ],
   "source": [
    "reviews['processed_text'] = reviews['review'].parallel_apply(clean_text)"
   ]
  },
  {
   "cell_type": "code",
   "execution_count": 6,
   "id": "28ebc58d-c9c8-45a8-951b-4c229010ea60",
   "metadata": {
    "scrolled": true
   },
   "outputs": [
    {
     "data": {
      "text/html": [
       "<div>\n",
       "<style scoped>\n",
       "    .dataframe tbody tr th:only-of-type {\n",
       "        vertical-align: middle;\n",
       "    }\n",
       "\n",
       "    .dataframe tbody tr th {\n",
       "        vertical-align: top;\n",
       "    }\n",
       "\n",
       "    .dataframe thead th {\n",
       "        text-align: right;\n",
       "    }\n",
       "</style>\n",
       "<table border=\"1\" class=\"dataframe\">\n",
       "  <thead>\n",
       "    <tr style=\"text-align: right;\">\n",
       "      <th></th>\n",
       "      <th>review</th>\n",
       "      <th>is_AI</th>\n",
       "      <th>processed_text</th>\n",
       "    </tr>\n",
       "  </thead>\n",
       "  <tbody>\n",
       "    <tr>\n",
       "      <th>0</th>\n",
       "      <td>Жаль, крем не оправдал ожиданий. Заявленный эф...</td>\n",
       "      <td>1</td>\n",
       "      <td>жаль , крем не оправдать ожидание . заявить эф...</td>\n",
       "    </tr>\n",
       "    <tr>\n",
       "      <th>1</th>\n",
       "      <td>Платье красивое, но мне пришло с браком, очень...</td>\n",
       "      <td>0</td>\n",
       "      <td>платье красивый , прийти брак , очень неприятно</td>\n",
       "    </tr>\n",
       "    <tr>\n",
       "      <th>2</th>\n",
       "      <td>Посылка пришла в непотребном виде.Получила на ...</td>\n",
       "      <td>0</td>\n",
       "      <td>посылка прийти непотребный вид . получить почт...</td>\n",
       "    </tr>\n",
       "    <tr>\n",
       "      <th>3</th>\n",
       "      <td>Маленький принц’, 12+, оказался совсем не мале...</td>\n",
       "      <td>1</td>\n",
       "      <td>маленький принц ’ , 12 + , оказаться не малень...</td>\n",
       "    </tr>\n",
       "    <tr>\n",
       "      <th>4</th>\n",
       "      <td>Адовая синтетика, но что за такую цену можно в...</td>\n",
       "      <td>0</td>\n",
       "      <td>адовый синтетик , цена впринцип ожидать</td>\n",
       "    </tr>\n",
       "    <tr>\n",
       "      <th>...</th>\n",
       "      <td>...</td>\n",
       "      <td>...</td>\n",
       "      <td>...</td>\n",
       "    </tr>\n",
       "    <tr>\n",
       "      <th>4685</th>\n",
       "      <td>Платье полностью не соответствует размеруXXL,к...</td>\n",
       "      <td>0</td>\n",
       "      <td>платье полностью не соответствовать размер xxl...</td>\n",
       "    </tr>\n",
       "    <tr>\n",
       "      <th>4686</th>\n",
       "      <td>Качество хорошее, свитер пушистый. Но размер н...</td>\n",
       "      <td>0</td>\n",
       "      <td>качество хороший , свитер пушистый . размер не...</td>\n",
       "    </tr>\n",
       "    <tr>\n",
       "      <th>4687</th>\n",
       "      <td>Три месяца ждала заказ , так и не дождалась.\\r...</td>\n",
       "      <td>0</td>\n",
       "      <td>месяц ждать заказ , не дождаться . не рекоменд...</td>\n",
       "    </tr>\n",
       "    <tr>\n",
       "      <th>4688</th>\n",
       "      <td>Заказ не пришёл. Деньги вернули</td>\n",
       "      <td>0</td>\n",
       "      <td>заказ не прийти . деньга вернуть</td>\n",
       "    </tr>\n",
       "    <tr>\n",
       "      <th>4689</th>\n",
       "      <td>Отличные брюки. Тёмно-синий цвет подходит к мо...</td>\n",
       "      <td>1</td>\n",
       "      <td>отличный брюки . тёмно-синий цвет подходить ко...</td>\n",
       "    </tr>\n",
       "  </tbody>\n",
       "</table>\n",
       "<p>23446 rows × 3 columns</p>\n",
       "</div>"
      ],
      "text/plain": [
       "                                                 review  is_AI  \\\n",
       "0     Жаль, крем не оправдал ожиданий. Заявленный эф...      1   \n",
       "1     Платье красивое, но мне пришло с браком, очень...      0   \n",
       "2     Посылка пришла в непотребном виде.Получила на ...      0   \n",
       "3     Маленький принц’, 12+, оказался совсем не мале...      1   \n",
       "4     Адовая синтетика, но что за такую цену можно в...      0   \n",
       "...                                                 ...    ...   \n",
       "4685  Платье полностью не соответствует размеруXXL,к...      0   \n",
       "4686  Качество хорошее, свитер пушистый. Но размер н...      0   \n",
       "4687  Три месяца ждала заказ , так и не дождалась.\\r...      0   \n",
       "4688                   Заказ не пришёл. Деньги вернули       0   \n",
       "4689  Отличные брюки. Тёмно-синий цвет подходит к мо...      1   \n",
       "\n",
       "                                         processed_text  \n",
       "0     жаль , крем не оправдать ожидание . заявить эф...  \n",
       "1       платье красивый , прийти брак , очень неприятно  \n",
       "2     посылка прийти непотребный вид . получить почт...  \n",
       "3     маленький принц ’ , 12 + , оказаться не малень...  \n",
       "4               адовый синтетик , цена впринцип ожидать  \n",
       "...                                                 ...  \n",
       "4685  платье полностью не соответствовать размер xxl...  \n",
       "4686  качество хороший , свитер пушистый . размер не...  \n",
       "4687  месяц ждать заказ , не дождаться . не рекоменд...  \n",
       "4688                   заказ не прийти . деньга вернуть  \n",
       "4689  отличный брюки . тёмно-синий цвет подходить ко...  \n",
       "\n",
       "[23446 rows x 3 columns]"
      ]
     },
     "execution_count": 6,
     "metadata": {},
     "output_type": "execute_result"
    }
   ],
   "source": [
    "reviews"
   ]
  },
  {
   "cell_type": "markdown",
   "id": "dd0b8f00-a049-432b-844d-7f339c8a5448",
   "metadata": {},
   "source": [
    "### Zipf Distribution"
   ]
  },
  {
   "cell_type": "code",
   "execution_count": 7,
   "id": "fd420f2b-46b2-44a4-ad5d-ab616f51c7aa",
   "metadata": {},
   "outputs": [],
   "source": [
    "def plot_zipf_diagram(texts: pd.Series) -> None:\n",
    "    from collections import Counter\n",
    "    import matplotlib.pyplot as plt\n",
    "\n",
    "    plt.figure(figsize=(20, 10))\n",
    "    \n",
    "    text = texts.str.cat(sep=' ')\n",
    "    tokens = text.split()\n",
    "    counts = Counter(tokens).most_common()\n",
    "    labels = [label for label, count in counts]\n",
    "    counts = [count for label, count in counts]\n",
    "    plt.bar(counts, range(len(set(tokens))))\n",
    "    plt.xlim(0, 250)\n",
    "\n",
    "\n",
    "def compare_zipf_diagrams(texts_real: pd.Series, texts_generated: pd.Series):\n",
    "    from collections import Counter\n",
    "    import matplotlib.pyplot as plt\n",
    "\n",
    "    plt.figure(figsize=(12, 6))\n",
    "\n",
    "    text = texts_generated.str.cat(sep=' ')\n",
    "    tokens = text.split()\n",
    "    counts = Counter(tokens).most_common()\n",
    "    labels, values = [], []\n",
    "    for label, value in counts:\n",
    "        labels.append(label)\n",
    "        values.append(value)\n",
    "    plt.bar(range(len(set(tokens))), values, label='generated', alpha=0.5)\n",
    "    \n",
    "    text = texts_real.str.cat(sep=' ')\n",
    "    tokens = text.split()\n",
    "    counts = Counter(tokens).most_common()\n",
    "    labels, values = [], []\n",
    "    for label, value in counts:\n",
    "        labels.append(label)\n",
    "        values.append(value)\n",
    "        \n",
    "    plt.bar(range(len(set(tokens))), values, label='real', alpha=0.5)\n",
    "    \n",
    "    plt.xlim(0, 250)\n",
    "    plt.title('Zipf Distribution')\n",
    "    plt.xlabel('Some word index')\n",
    "    plt.ylabel('Number of occurrencies')\n",
    "\n",
    "    plt.grid()\n",
    "    plt.legend()\n",
    "    plt.tight_layout()"
   ]
  },
  {
   "cell_type": "code",
   "execution_count": 8,
   "id": "65c86a3c-1752-426c-b812-2642b7fd4019",
   "metadata": {},
   "outputs": [
    {
     "data": {
      "text/plain": [
       "is_AI\n",
       "1    11723\n",
       "0    11723\n",
       "Name: count, dtype: int64"
      ]
     },
     "execution_count": 8,
     "metadata": {},
     "output_type": "execute_result"
    }
   ],
   "source": [
    "reviews.is_AI.value_counts()"
   ]
  },
  {
   "cell_type": "markdown",
   "id": "a799e46a-78b2-4b9e-8c6b-286ca5e602d6",
   "metadata": {},
   "source": [
    "**Для оригинальных отзывов**"
   ]
  },
  {
   "cell_type": "code",
   "execution_count": 9,
   "id": "a062b8a7-9ac0-4c6f-a527-71dec01dfd37",
   "metadata": {},
   "outputs": [
    {
     "name": "stdout",
     "output_type": "stream",
     "text": [
      "CPU times: total: 1min 6s\n",
      "Wall time: 1min 7s\n"
     ]
    },
    {
     "data": {
      "text/plain": [
       "<Figure size 1200x600 with 0 Axes>"
      ]
     },
     "metadata": {},
     "output_type": "display_data"
    }
   ],
   "source": [
    "%%time\n",
    "\n",
    "compare_zipf_diagrams(reviews.query('is_AI == 0')['review'], reviews.query('is_AI == 1')['review'])\n",
    "plt.savefig(f'../../visualization/zip_diagrams_original.png', dpi=400)\n",
    "plt.clf()"
   ]
  },
  {
   "cell_type": "markdown",
   "id": "a0b776e4-5faf-493d-8958-f073c10ebd8e",
   "metadata": {},
   "source": [
    "**Для предобработанных отзывов**"
   ]
  },
  {
   "cell_type": "code",
   "execution_count": 10,
   "id": "b55a05cc-3021-4940-805e-1a4ec03d217e",
   "metadata": {},
   "outputs": [
    {
     "name": "stdout",
     "output_type": "stream",
     "text": [
      "CPU times: total: 20.3 s\n",
      "Wall time: 20.4 s\n"
     ]
    },
    {
     "data": {
      "text/plain": [
       "<Figure size 1200x600 with 0 Axes>"
      ]
     },
     "metadata": {},
     "output_type": "display_data"
    }
   ],
   "source": [
    "%%time\n",
    "\n",
    "compare_zipf_diagrams(reviews.query('is_AI == 0')['processed_text'], reviews.query('is_AI == 1')['processed_text'])\n",
    "plt.savefig(f'../../visualization/zip_diagrams_preprocessed.png', dpi=400)\n",
    "plt.clf()"
   ]
  },
  {
   "cell_type": "markdown",
   "id": "6d113f29-c114-4fc0-bc96-76eba9bc044b",
   "metadata": {},
   "source": [
    "### Just words distribution"
   ]
  },
  {
   "cell_type": "code",
   "execution_count": 11,
   "id": "19b6fd00-7f40-4e21-aaaa-19c1655af4c8",
   "metadata": {},
   "outputs": [],
   "source": [
    "def get_words_number_of_occurrencies(texts: pd.Series) -> pd.DataFrame:\n",
    "    from collections import Counter\n",
    "\n",
    "    text = texts.str.cat(sep=' ')\n",
    "    tokens = text.split()\n",
    "    counts = Counter(tokens).most_common()\n",
    "    df = pd.DataFrame(counts)\n",
    "    return df\n",
    "\n"
   ]
  },
  {
   "cell_type": "code",
   "execution_count": 12,
   "id": "46cc2493-5ffc-40b7-b55d-0567e915704e",
   "metadata": {},
   "outputs": [],
   "source": [
    "real = get_words_number_of_occurrencies(reviews.query('is_AI == 0')['processed_text'])\n",
    "real.index = real[0]\n",
    "real.drop(columns=[0], inplace=True)\n",
    "generated = get_words_number_of_occurrencies(reviews.query('is_AI == 1')['processed_text'])\n",
    "generated.index = generated[0]\n",
    "generated.drop(columns=[0], inplace=True)"
   ]
  },
  {
   "cell_type": "code",
   "execution_count": 13,
   "id": "a1f42e5c-ac1d-4633-aafe-fac6b81880ca",
   "metadata": {},
   "outputs": [
    {
     "data": {
      "text/html": [
       "<div>\n",
       "<style scoped>\n",
       "    .dataframe tbody tr th:only-of-type {\n",
       "        vertical-align: middle;\n",
       "    }\n",
       "\n",
       "    .dataframe tbody tr th {\n",
       "        vertical-align: top;\n",
       "    }\n",
       "\n",
       "    .dataframe thead th {\n",
       "        text-align: right;\n",
       "    }\n",
       "</style>\n",
       "<table border=\"1\" class=\"dataframe\">\n",
       "  <thead>\n",
       "    <tr style=\"text-align: right;\">\n",
       "      <th></th>\n",
       "      <th>1</th>\n",
       "    </tr>\n",
       "    <tr>\n",
       "      <th>0</th>\n",
       "      <th></th>\n",
       "    </tr>\n",
       "  </thead>\n",
       "  <tbody>\n",
       "    <tr>\n",
       "      <th>,</th>\n",
       "      <td>25302</td>\n",
       "    </tr>\n",
       "    <tr>\n",
       "      <th>.</th>\n",
       "      <td>22761</td>\n",
       "    </tr>\n",
       "    <tr>\n",
       "      <th>не</th>\n",
       "      <td>17073</td>\n",
       "    </tr>\n",
       "    <tr>\n",
       "      <th>продавец</th>\n",
       "      <td>5016</td>\n",
       "    </tr>\n",
       "    <tr>\n",
       "      <th>деньга</th>\n",
       "      <td>4502</td>\n",
       "    </tr>\n",
       "    <tr>\n",
       "      <th>...</th>\n",
       "      <td>...</td>\n",
       "    </tr>\n",
       "    <tr>\n",
       "      <th>трухан</th>\n",
       "      <td>1</td>\n",
       "    </tr>\n",
       "    <tr>\n",
       "      <th>малютка</th>\n",
       "      <td>1</td>\n",
       "    </tr>\n",
       "    <tr>\n",
       "      <th>зарекаться</th>\n",
       "      <td>1</td>\n",
       "    </tr>\n",
       "    <tr>\n",
       "      <th>грабли</th>\n",
       "      <td>1</td>\n",
       "    </tr>\n",
       "    <tr>\n",
       "      <th>polyester</th>\n",
       "      <td>1</td>\n",
       "    </tr>\n",
       "  </tbody>\n",
       "</table>\n",
       "<p>11328 rows × 1 columns</p>\n",
       "</div>"
      ],
      "text/plain": [
       "                1\n",
       "0                \n",
       ",           25302\n",
       ".           22761\n",
       "не          17073\n",
       "продавец     5016\n",
       "деньга       4502\n",
       "...           ...\n",
       "трухан          1\n",
       "малютка         1\n",
       "зарекаться      1\n",
       "грабли          1\n",
       "polyester       1\n",
       "\n",
       "[11328 rows x 1 columns]"
      ]
     },
     "execution_count": 13,
     "metadata": {},
     "output_type": "execute_result"
    }
   ],
   "source": [
    "real"
   ]
  },
  {
   "cell_type": "code",
   "execution_count": 14,
   "id": "44d6d8f3-9a1d-41c4-9425-bc1c95f17bf1",
   "metadata": {},
   "outputs": [
    {
     "data": {
      "text/html": [
       "<div>\n",
       "<style scoped>\n",
       "    .dataframe tbody tr th:only-of-type {\n",
       "        vertical-align: middle;\n",
       "    }\n",
       "\n",
       "    .dataframe tbody tr th {\n",
       "        vertical-align: top;\n",
       "    }\n",
       "\n",
       "    .dataframe thead th {\n",
       "        text-align: right;\n",
       "    }\n",
       "</style>\n",
       "<table border=\"1\" class=\"dataframe\">\n",
       "  <thead>\n",
       "    <tr style=\"text-align: right;\">\n",
       "      <th></th>\n",
       "      <th>1</th>\n",
       "    </tr>\n",
       "    <tr>\n",
       "      <th>0</th>\n",
       "      <th></th>\n",
       "    </tr>\n",
       "  </thead>\n",
       "  <tbody>\n",
       "    <tr>\n",
       "      <th>.</th>\n",
       "      <td>36950</td>\n",
       "    </tr>\n",
       "    <tr>\n",
       "      <th>,</th>\n",
       "      <td>19299</td>\n",
       "    </tr>\n",
       "    <tr>\n",
       "      <th>не</th>\n",
       "      <td>9956</td>\n",
       "    </tr>\n",
       "    <tr>\n",
       "      <th>размер</th>\n",
       "      <td>4926</td>\n",
       "    </tr>\n",
       "    <tr>\n",
       "      <th>купить</th>\n",
       "      <td>3681</td>\n",
       "    </tr>\n",
       "    <tr>\n",
       "      <th>...</th>\n",
       "      <td>...</td>\n",
       "    </tr>\n",
       "    <tr>\n",
       "      <th>существенно</th>\n",
       "      <td>1</td>\n",
       "    </tr>\n",
       "    <tr>\n",
       "      <th>держатель</th>\n",
       "      <td>1</td>\n",
       "    </tr>\n",
       "    <tr>\n",
       "      <th>вечеринка</th>\n",
       "      <td>1</td>\n",
       "    </tr>\n",
       "    <tr>\n",
       "      <th>запрашивать</th>\n",
       "      <td>1</td>\n",
       "    </tr>\n",
       "    <tr>\n",
       "      <th>усидчивость</th>\n",
       "      <td>1</td>\n",
       "    </tr>\n",
       "  </tbody>\n",
       "</table>\n",
       "<p>5640 rows × 1 columns</p>\n",
       "</div>"
      ],
      "text/plain": [
       "                 1\n",
       "0                 \n",
       ".            36950\n",
       ",            19299\n",
       "не            9956\n",
       "размер        4926\n",
       "купить        3681\n",
       "...            ...\n",
       "существенно      1\n",
       "держатель        1\n",
       "вечеринка        1\n",
       "запрашивать      1\n",
       "усидчивость      1\n",
       "\n",
       "[5640 rows x 1 columns]"
      ]
     },
     "execution_count": 14,
     "metadata": {},
     "output_type": "execute_result"
    }
   ],
   "source": [
    "generated"
   ]
  },
  {
   "cell_type": "code",
   "execution_count": 15,
   "id": "9829479d-ad43-44f2-be45-88afc42a63ad",
   "metadata": {},
   "outputs": [
    {
     "data": {
      "text/html": [
       "<div>\n",
       "<style scoped>\n",
       "    .dataframe tbody tr th:only-of-type {\n",
       "        vertical-align: middle;\n",
       "    }\n",
       "\n",
       "    .dataframe tbody tr th {\n",
       "        vertical-align: top;\n",
       "    }\n",
       "\n",
       "    .dataframe thead th {\n",
       "        text-align: right;\n",
       "    }\n",
       "</style>\n",
       "<table border=\"1\" class=\"dataframe\">\n",
       "  <thead>\n",
       "    <tr style=\"text-align: right;\">\n",
       "      <th></th>\n",
       "      <th>real</th>\n",
       "      <th>generated</th>\n",
       "    </tr>\n",
       "    <tr>\n",
       "      <th>0</th>\n",
       "      <th></th>\n",
       "      <th></th>\n",
       "    </tr>\n",
       "  </thead>\n",
       "  <tbody>\n",
       "    <tr>\n",
       "      <th>!</th>\n",
       "      <td>4113.0</td>\n",
       "      <td>1369.0</td>\n",
       "    </tr>\n",
       "    <tr>\n",
       "      <th>!!</th>\n",
       "      <td>258.0</td>\n",
       "      <td>0.0</td>\n",
       "    </tr>\n",
       "    <tr>\n",
       "      <th>!!!</th>\n",
       "      <td>1121.0</td>\n",
       "      <td>0.0</td>\n",
       "    </tr>\n",
       "    <tr>\n",
       "      <th>!!!!</th>\n",
       "      <td>418.0</td>\n",
       "      <td>0.0</td>\n",
       "    </tr>\n",
       "    <tr>\n",
       "      <th>!!!!!</th>\n",
       "      <td>140.0</td>\n",
       "      <td>0.0</td>\n",
       "    </tr>\n",
       "    <tr>\n",
       "      <th>...</th>\n",
       "      <td>...</td>\n",
       "      <td>...</td>\n",
       "    </tr>\n",
       "    <tr>\n",
       "      <th>➕</th>\n",
       "      <td>1.0</td>\n",
       "      <td>0.0</td>\n",
       "    </tr>\n",
       "    <tr>\n",
       "      <th>⭐️⭐️</th>\n",
       "      <td>1.0</td>\n",
       "      <td>0.0</td>\n",
       "    </tr>\n",
       "    <tr>\n",
       "      <th>！</th>\n",
       "      <td>1.0</td>\n",
       "      <td>0.0</td>\n",
       "    </tr>\n",
       "    <tr>\n",
       "      <th>！деньга</th>\n",
       "      <td>1.0</td>\n",
       "      <td>0.0</td>\n",
       "    </tr>\n",
       "    <tr>\n",
       "      <th>（s）</th>\n",
       "      <td>1.0</td>\n",
       "      <td>0.0</td>\n",
       "    </tr>\n",
       "  </tbody>\n",
       "</table>\n",
       "<p>14049 rows × 2 columns</p>\n",
       "</div>"
      ],
      "text/plain": [
       "           real  generated\n",
       "0                         \n",
       "!        4113.0     1369.0\n",
       "!!        258.0        0.0\n",
       "!!!      1121.0        0.0\n",
       "!!!!      418.0        0.0\n",
       "!!!!!     140.0        0.0\n",
       "...         ...        ...\n",
       "➕           1.0        0.0\n",
       "⭐️⭐️        1.0        0.0\n",
       "！           1.0        0.0\n",
       "！деньга     1.0        0.0\n",
       "（s）         1.0        0.0\n",
       "\n",
       "[14049 rows x 2 columns]"
      ]
     },
     "execution_count": 15,
     "metadata": {},
     "output_type": "execute_result"
    }
   ],
   "source": [
    "real, generated = real.align(generated, axis=0, fill_value=0.0)\n",
    "stats = pd.concat([real, generated], axis=1)\n",
    "stats.columns = ['real', 'generated']\n",
    "stats"
   ]
  },
  {
   "cell_type": "code",
   "execution_count": 26,
   "id": "e84ab69a-5658-4d77-a402-ecc65365d08d",
   "metadata": {},
   "outputs": [
    {
     "data": {
      "text/plain": [
       "<Figure size 640x480 with 0 Axes>"
      ]
     },
     "metadata": {},
     "output_type": "display_data"
    }
   ],
   "source": [
    "plt.bar(range(len(stats)), (stats['real'] - stats['generated']).abs(), label='real')\n",
    "plt.title('The absolute value of differencies for word occurrencies \\n in Real and Generated reviews')\n",
    "plt.xlabel('Some word ID in both Real and Generated datasets')\n",
    "plt.ylabel('The difference in number of occurrencies')\n",
    "plt.ylim(0, 200);\n",
    "\n",
    "plt.savefig(f'../../visualization/Difference_in_word_occurrencies.png', dpi=400)\n",
    "plt.clf()"
   ]
  },
  {
   "cell_type": "markdown",
   "id": "8a9f3c1d-b9f3-4a46-bd43-85932bafffdd",
   "metadata": {},
   "source": [
    "### TextStat"
   ]
  },
  {
   "cell_type": "code",
   "execution_count": 17,
   "id": "1f563d2c-36b3-4c89-9780-dde085bbea49",
   "metadata": {
    "scrolled": true
   },
   "outputs": [
    {
     "name": "stdout",
     "output_type": "stream",
     "text": [
      "automated_readability_index 12.5\n",
      "avg_letter_per_word 6.4\n",
      "avg_sentence_length 3.8\n",
      "avg_sentence_per_word 0.27\n",
      "char_count 102\n",
      "coleman_liau_index 13.33\n",
      "crawford -4.1\n",
      "difficult_words 0\n",
      "fernandez_huerta 142.96\n",
      "flesch_kincaid_grade -2.4\n",
      "flesch_reading_ease 118.38\n",
      "gulpease_index 101.0\n",
      "gunning_fog 1.52\n",
      "gutierrez_polini 31.81\n",
      "lexicon_count 15\n",
      "linsear_write_formula 1.625\n",
      "lix 37.13\n",
      "long_word_count 7\n",
      "mcalpine_eflaw 4.5\n",
      "miniword_count 3\n",
      "monosyllabcount 15\n",
      "reading_time 1.5\n",
      "sentence_count 4\n",
      "syllable_count 15\n",
      "words_per_sentence 3.75\n"
     ]
    },
    {
     "data": {
      "application/vnd.jupyter.widget-view+json": {
       "model_id": "934c84eb0859400e81ac0f883f9f258e",
       "version_major": 2,
       "version_minor": 0
      },
      "text/plain": [
       "  0%|          | 0/25 [00:00<?, ?it/s]"
      ]
     },
     "metadata": {},
     "output_type": "display_data"
    },
    {
     "data": {
      "application/vnd.jupyter.widget-view+json": {
       "model_id": "07684f7a569d4b5499bfd37e8a921780",
       "version_major": 2,
       "version_minor": 0
      },
      "text/plain": [
       "  0%|          | 0/23446 [00:00<?, ?it/s]"
      ]
     },
     "metadata": {},
     "output_type": "display_data"
    },
    {
     "data": {
      "application/vnd.jupyter.widget-view+json": {
       "model_id": "d9bf8af3a4034a8380eb8b4a9cb31046",
       "version_major": 2,
       "version_minor": 0
      },
      "text/plain": [
       "  0%|          | 0/23446 [00:00<?, ?it/s]"
      ]
     },
     "metadata": {},
     "output_type": "display_data"
    },
    {
     "data": {
      "application/vnd.jupyter.widget-view+json": {
       "model_id": "d66f22c1e72b482cae9dd02d4593770d",
       "version_major": 2,
       "version_minor": 0
      },
      "text/plain": [
       "  0%|          | 0/23446 [00:00<?, ?it/s]"
      ]
     },
     "metadata": {},
     "output_type": "display_data"
    },
    {
     "data": {
      "application/vnd.jupyter.widget-view+json": {
       "model_id": "139e73fcd97a4c4baeaeea6f70a149ca",
       "version_major": 2,
       "version_minor": 0
      },
      "text/plain": [
       "  0%|          | 0/23446 [00:00<?, ?it/s]"
      ]
     },
     "metadata": {},
     "output_type": "display_data"
    },
    {
     "data": {
      "application/vnd.jupyter.widget-view+json": {
       "model_id": "5b091442e76c4e04b41a40122584d8d4",
       "version_major": 2,
       "version_minor": 0
      },
      "text/plain": [
       "  0%|          | 0/23446 [00:00<?, ?it/s]"
      ]
     },
     "metadata": {},
     "output_type": "display_data"
    },
    {
     "data": {
      "application/vnd.jupyter.widget-view+json": {
       "model_id": "fa0f40c076f74609b79b4155413e43e7",
       "version_major": 2,
       "version_minor": 0
      },
      "text/plain": [
       "  0%|          | 0/23446 [00:00<?, ?it/s]"
      ]
     },
     "metadata": {},
     "output_type": "display_data"
    },
    {
     "data": {
      "application/vnd.jupyter.widget-view+json": {
       "model_id": "a7310400a0434ed69f0a6756e7c5a2ee",
       "version_major": 2,
       "version_minor": 0
      },
      "text/plain": [
       "  0%|          | 0/23446 [00:00<?, ?it/s]"
      ]
     },
     "metadata": {},
     "output_type": "display_data"
    },
    {
     "data": {
      "application/vnd.jupyter.widget-view+json": {
       "model_id": "597456c7fd4748209d7606a7866809a9",
       "version_major": 2,
       "version_minor": 0
      },
      "text/plain": [
       "  0%|          | 0/23446 [00:00<?, ?it/s]"
      ]
     },
     "metadata": {},
     "output_type": "display_data"
    },
    {
     "data": {
      "application/vnd.jupyter.widget-view+json": {
       "model_id": "24bc09d9cf524ae2ac49c1df5dc7c57b",
       "version_major": 2,
       "version_minor": 0
      },
      "text/plain": [
       "  0%|          | 0/23446 [00:00<?, ?it/s]"
      ]
     },
     "metadata": {},
     "output_type": "display_data"
    },
    {
     "data": {
      "application/vnd.jupyter.widget-view+json": {
       "model_id": "1572eeb905c449bd9aef832b94cd29ae",
       "version_major": 2,
       "version_minor": 0
      },
      "text/plain": [
       "  0%|          | 0/23446 [00:00<?, ?it/s]"
      ]
     },
     "metadata": {},
     "output_type": "display_data"
    },
    {
     "data": {
      "application/vnd.jupyter.widget-view+json": {
       "model_id": "07d1689500714c8caeabbf3c4ea9e2eb",
       "version_major": 2,
       "version_minor": 0
      },
      "text/plain": [
       "  0%|          | 0/23446 [00:00<?, ?it/s]"
      ]
     },
     "metadata": {},
     "output_type": "display_data"
    },
    {
     "data": {
      "application/vnd.jupyter.widget-view+json": {
       "model_id": "2d6c3ebbee6843c39baa9bf271dabafd",
       "version_major": 2,
       "version_minor": 0
      },
      "text/plain": [
       "  0%|          | 0/23446 [00:00<?, ?it/s]"
      ]
     },
     "metadata": {},
     "output_type": "display_data"
    },
    {
     "data": {
      "application/vnd.jupyter.widget-view+json": {
       "model_id": "538f5e47d7394a269b44d3f14f2230da",
       "version_major": 2,
       "version_minor": 0
      },
      "text/plain": [
       "  0%|          | 0/23446 [00:00<?, ?it/s]"
      ]
     },
     "metadata": {},
     "output_type": "display_data"
    },
    {
     "data": {
      "application/vnd.jupyter.widget-view+json": {
       "model_id": "d1bf80cc67f446a784d9c5168d5fd9be",
       "version_major": 2,
       "version_minor": 0
      },
      "text/plain": [
       "  0%|          | 0/23446 [00:00<?, ?it/s]"
      ]
     },
     "metadata": {},
     "output_type": "display_data"
    },
    {
     "data": {
      "application/vnd.jupyter.widget-view+json": {
       "model_id": "08a2c14836a4403a9fa4f6b6493435b8",
       "version_major": 2,
       "version_minor": 0
      },
      "text/plain": [
       "  0%|          | 0/23446 [00:00<?, ?it/s]"
      ]
     },
     "metadata": {},
     "output_type": "display_data"
    },
    {
     "data": {
      "application/vnd.jupyter.widget-view+json": {
       "model_id": "80ba513fa29a4502ba639d084f62ca53",
       "version_major": 2,
       "version_minor": 0
      },
      "text/plain": [
       "  0%|          | 0/23446 [00:00<?, ?it/s]"
      ]
     },
     "metadata": {},
     "output_type": "display_data"
    },
    {
     "data": {
      "application/vnd.jupyter.widget-view+json": {
       "model_id": "bdebf51572b143f3a1fc5eb2de52e26f",
       "version_major": 2,
       "version_minor": 0
      },
      "text/plain": [
       "  0%|          | 0/23446 [00:00<?, ?it/s]"
      ]
     },
     "metadata": {},
     "output_type": "display_data"
    },
    {
     "data": {
      "application/vnd.jupyter.widget-view+json": {
       "model_id": "4e4c6e83864a42aa841081809a5c1384",
       "version_major": 2,
       "version_minor": 0
      },
      "text/plain": [
       "  0%|          | 0/23446 [00:00<?, ?it/s]"
      ]
     },
     "metadata": {},
     "output_type": "display_data"
    },
    {
     "data": {
      "application/vnd.jupyter.widget-view+json": {
       "model_id": "22d1016bdb54495db1b0e41a598eaed7",
       "version_major": 2,
       "version_minor": 0
      },
      "text/plain": [
       "  0%|          | 0/23446 [00:00<?, ?it/s]"
      ]
     },
     "metadata": {},
     "output_type": "display_data"
    },
    {
     "data": {
      "application/vnd.jupyter.widget-view+json": {
       "model_id": "29768c0109dc4148bfe6a146f1ecb32c",
       "version_major": 2,
       "version_minor": 0
      },
      "text/plain": [
       "  0%|          | 0/23446 [00:00<?, ?it/s]"
      ]
     },
     "metadata": {},
     "output_type": "display_data"
    },
    {
     "data": {
      "application/vnd.jupyter.widget-view+json": {
       "model_id": "c051fed9ae4143c7b7361889826478a0",
       "version_major": 2,
       "version_minor": 0
      },
      "text/plain": [
       "  0%|          | 0/23446 [00:00<?, ?it/s]"
      ]
     },
     "metadata": {},
     "output_type": "display_data"
    },
    {
     "data": {
      "application/vnd.jupyter.widget-view+json": {
       "model_id": "915c68b3245d4763813770cec7bb63e0",
       "version_major": 2,
       "version_minor": 0
      },
      "text/plain": [
       "  0%|          | 0/23446 [00:00<?, ?it/s]"
      ]
     },
     "metadata": {},
     "output_type": "display_data"
    },
    {
     "data": {
      "application/vnd.jupyter.widget-view+json": {
       "model_id": "58f2b1211ec94d87bd584df6e8c3e2fc",
       "version_major": 2,
       "version_minor": 0
      },
      "text/plain": [
       "  0%|          | 0/23446 [00:00<?, ?it/s]"
      ]
     },
     "metadata": {},
     "output_type": "display_data"
    },
    {
     "data": {
      "application/vnd.jupyter.widget-view+json": {
       "model_id": "cdf7a0b8b2434b7c9bf5d57ac3f04d8d",
       "version_major": 2,
       "version_minor": 0
      },
      "text/plain": [
       "  0%|          | 0/23446 [00:00<?, ?it/s]"
      ]
     },
     "metadata": {},
     "output_type": "display_data"
    },
    {
     "data": {
      "application/vnd.jupyter.widget-view+json": {
       "model_id": "e1e829f307514919a69f00868e09f40c",
       "version_major": 2,
       "version_minor": 0
      },
      "text/plain": [
       "  0%|          | 0/23446 [00:00<?, ?it/s]"
      ]
     },
     "metadata": {},
     "output_type": "display_data"
    }
   ],
   "source": [
    "meth_ignore_list = ['set_lang',  # Not appropriate\n",
    "                    'wiener_sachtextformel',\n",
    "                     'avg_character_per_word',  'avg_syllables_per_word',  \n",
    "                     'count_arabic_long_words',  'count_arabic_syllables',  \n",
    "                    'count_complex_arabic_words', 'count_faseeh', \n",
    "                    'dale_chall_readability_score', 'dale_chall_readability_score_v2', \n",
    "                   'is_difficult_word', 'is_easy_word', \n",
    "                   'letter_count', 'osman', \n",
    "                   'polysyllabcount', 'rix', 'smog_index', \n",
    "                    'spache_readability', 'szigriszt_pazos'\n",
    "                   ]\n",
    "good_methods: dict[str, Callable] = {}\n",
    "\n",
    "for meth_name in dir(textstat):\n",
    "    # print(meth_name)\n",
    "    if not meth_name.startswith('__') and meth_name not in meth_ignore_list:\n",
    "        meth = getattr(textstat, meth_name)\n",
    "        if isinstance(meth, Callable):\n",
    "            try:\n",
    "                res = meth(reviews['processed_text'].iloc[0])\n",
    "                if isinstance(res, (int, float, bool)):\n",
    "                    print(meth_name, res)   \n",
    "                    good_methods[meth_name] = meth\n",
    "            except Exception as e:\n",
    "                print(e)\n",
    "                raise e\n",
    "\n",
    "def apply_textstat(text, meth): \n",
    "    try:\n",
    "        res = meth(text)\n",
    "    except OSError:\n",
    "        return None\n",
    "    except ZeroDivisionError:\n",
    "        return None\n",
    "    return res\n",
    "\n",
    "\n",
    "# X_train = X.copy()\n",
    "# y_train = y.copy()\n",
    "# X_test = test.copy()\n",
    "\n",
    "for meth_name, meth in tqdm(good_methods.items()):\n",
    "    reviews[meth_name] = reviews['review'].progress_apply(apply_textstat, args=(meth,))\n",
    "# for meth_name, meth in tqdm(good_methods.items()):\n",
    "#     reviews[meth_name] = reviews['review'].progress_apply(apply_textstat, args=(meth,))"
   ]
  },
  {
   "cell_type": "code",
   "execution_count": 18,
   "id": "a91d22d5-fba4-4312-a6a9-16e6e06a7950",
   "metadata": {},
   "outputs": [
    {
     "data": {
      "text/html": [
       "<div>\n",
       "<style scoped>\n",
       "    .dataframe tbody tr th:only-of-type {\n",
       "        vertical-align: middle;\n",
       "    }\n",
       "\n",
       "    .dataframe tbody tr th {\n",
       "        vertical-align: top;\n",
       "    }\n",
       "\n",
       "    .dataframe thead th {\n",
       "        text-align: right;\n",
       "    }\n",
       "</style>\n",
       "<table border=\"1\" class=\"dataframe\">\n",
       "  <thead>\n",
       "    <tr style=\"text-align: right;\">\n",
       "      <th></th>\n",
       "      <th>review</th>\n",
       "      <th>is_AI</th>\n",
       "      <th>processed_text</th>\n",
       "      <th>automated_readability_index</th>\n",
       "      <th>avg_letter_per_word</th>\n",
       "      <th>avg_sentence_length</th>\n",
       "      <th>avg_sentence_per_word</th>\n",
       "      <th>char_count</th>\n",
       "      <th>coleman_liau_index</th>\n",
       "      <th>crawford</th>\n",
       "      <th>...</th>\n",
       "      <th>linsear_write_formula</th>\n",
       "      <th>lix</th>\n",
       "      <th>long_word_count</th>\n",
       "      <th>mcalpine_eflaw</th>\n",
       "      <th>miniword_count</th>\n",
       "      <th>monosyllabcount</th>\n",
       "      <th>reading_time</th>\n",
       "      <th>sentence_count</th>\n",
       "      <th>syllable_count</th>\n",
       "      <th>words_per_sentence</th>\n",
       "    </tr>\n",
       "  </thead>\n",
       "  <tbody>\n",
       "    <tr>\n",
       "      <th>0</th>\n",
       "      <td>Жаль, крем не оправдал ожиданий. Заявленный эф...</td>\n",
       "      <td>1</td>\n",
       "      <td>жаль , крем не оправдать ожидание . заявить эф...</td>\n",
       "      <td>11.5</td>\n",
       "      <td>6.20</td>\n",
       "      <td>3.8</td>\n",
       "      <td>0.27</td>\n",
       "      <td>99</td>\n",
       "      <td>12.17</td>\n",
       "      <td>-4.1</td>\n",
       "      <td>...</td>\n",
       "      <td>0.875000</td>\n",
       "      <td>50.47</td>\n",
       "      <td>7</td>\n",
       "      <td>4.5</td>\n",
       "      <td>3</td>\n",
       "      <td>15</td>\n",
       "      <td>1.45</td>\n",
       "      <td>4</td>\n",
       "      <td>15</td>\n",
       "      <td>3.750000</td>\n",
       "    </tr>\n",
       "    <tr>\n",
       "      <th>1</th>\n",
       "      <td>Платье красивое, но мне пришло с браком, очень...</td>\n",
       "      <td>0</td>\n",
       "      <td>платье красивый , прийти брак , очень неприятно</td>\n",
       "      <td>8.2</td>\n",
       "      <td>5.11</td>\n",
       "      <td>9.0</td>\n",
       "      <td>0.11</td>\n",
       "      <td>48</td>\n",
       "      <td>10.58</td>\n",
       "      <td>-0.9</td>\n",
       "      <td>...</td>\n",
       "      <td>3.500000</td>\n",
       "      <td>42.33</td>\n",
       "      <td>2</td>\n",
       "      <td>12.0</td>\n",
       "      <td>3</td>\n",
       "      <td>9</td>\n",
       "      <td>0.71</td>\n",
       "      <td>1</td>\n",
       "      <td>9</td>\n",
       "      <td>9.000000</td>\n",
       "    </tr>\n",
       "    <tr>\n",
       "      <th>2</th>\n",
       "      <td>Посылка пришла в непотребном виде.Получила на ...</td>\n",
       "      <td>0</td>\n",
       "      <td>посылка прийти непотребный вид . получить почт...</td>\n",
       "      <td>13.1</td>\n",
       "      <td>6.30</td>\n",
       "      <td>6.7</td>\n",
       "      <td>0.15</td>\n",
       "      <td>265</td>\n",
       "      <td>16.30</td>\n",
       "      <td>-1.7</td>\n",
       "      <td>...</td>\n",
       "      <td>2.333333</td>\n",
       "      <td>54.20</td>\n",
       "      <td>19</td>\n",
       "      <td>8.3</td>\n",
       "      <td>10</td>\n",
       "      <td>40</td>\n",
       "      <td>3.89</td>\n",
       "      <td>6</td>\n",
       "      <td>40</td>\n",
       "      <td>6.666667</td>\n",
       "    </tr>\n",
       "  </tbody>\n",
       "</table>\n",
       "<p>3 rows × 28 columns</p>\n",
       "</div>"
      ],
      "text/plain": [
       "                                              review  is_AI  \\\n",
       "0  Жаль, крем не оправдал ожиданий. Заявленный эф...      1   \n",
       "1  Платье красивое, но мне пришло с браком, очень...      0   \n",
       "2  Посылка пришла в непотребном виде.Получила на ...      0   \n",
       "\n",
       "                                      processed_text  \\\n",
       "0  жаль , крем не оправдать ожидание . заявить эф...   \n",
       "1    платье красивый , прийти брак , очень неприятно   \n",
       "2  посылка прийти непотребный вид . получить почт...   \n",
       "\n",
       "   automated_readability_index  avg_letter_per_word  avg_sentence_length  \\\n",
       "0                         11.5                 6.20                  3.8   \n",
       "1                          8.2                 5.11                  9.0   \n",
       "2                         13.1                 6.30                  6.7   \n",
       "\n",
       "   avg_sentence_per_word  char_count  coleman_liau_index  crawford  ...  \\\n",
       "0                   0.27          99               12.17      -4.1  ...   \n",
       "1                   0.11          48               10.58      -0.9  ...   \n",
       "2                   0.15         265               16.30      -1.7  ...   \n",
       "\n",
       "   linsear_write_formula    lix  long_word_count  mcalpine_eflaw  \\\n",
       "0               0.875000  50.47                7             4.5   \n",
       "1               3.500000  42.33                2            12.0   \n",
       "2               2.333333  54.20               19             8.3   \n",
       "\n",
       "   miniword_count  monosyllabcount  reading_time  sentence_count  \\\n",
       "0               3               15          1.45               4   \n",
       "1               3                9          0.71               1   \n",
       "2              10               40          3.89               6   \n",
       "\n",
       "   syllable_count  words_per_sentence  \n",
       "0              15            3.750000  \n",
       "1               9            9.000000  \n",
       "2              40            6.666667  \n",
       "\n",
       "[3 rows x 28 columns]"
      ]
     },
     "execution_count": 18,
     "metadata": {},
     "output_type": "execute_result"
    }
   ],
   "source": [
    "reviews.head(3)"
   ]
  },
  {
   "cell_type": "code",
   "execution_count": 19,
   "id": "505495d2-1343-4db3-a509-792626f6bbcc",
   "metadata": {},
   "outputs": [
    {
     "data": {
      "text/plain": [
       "review                         False\n",
       "is_AI                          False\n",
       "processed_text                 False\n",
       "automated_readability_index    False\n",
       "avg_letter_per_word            False\n",
       "avg_sentence_length            False\n",
       "avg_sentence_per_word          False\n",
       "char_count                     False\n",
       "coleman_liau_index             False\n",
       "crawford                       False\n",
       "difficult_words                False\n",
       "fernandez_huerta               False\n",
       "flesch_kincaid_grade           False\n",
       "flesch_reading_ease            False\n",
       "gulpease_index                 False\n",
       "gunning_fog                    False\n",
       "gutierrez_polini               False\n",
       "lexicon_count                  False\n",
       "linsear_write_formula          False\n",
       "lix                            False\n",
       "long_word_count                False\n",
       "mcalpine_eflaw                 False\n",
       "miniword_count                 False\n",
       "monosyllabcount                False\n",
       "reading_time                   False\n",
       "sentence_count                 False\n",
       "syllable_count                 False\n",
       "words_per_sentence             False\n",
       "dtype: bool"
      ]
     },
     "execution_count": 19,
     "metadata": {},
     "output_type": "execute_result"
    }
   ],
   "source": [
    "reviews.isna().any()"
   ]
  },
  {
   "cell_type": "code",
   "execution_count": 20,
   "id": "ca83f3e5-6ec4-4d63-80f4-f4505ba3dbcc",
   "metadata": {},
   "outputs": [],
   "source": [
    "reviews.to_csv('./reviews_preprocessed_with_textstat.csv', index=False)"
   ]
  },
  {
   "cell_type": "code",
   "execution_count": 21,
   "id": "f660726a-ec46-42c6-9891-089886aef458",
   "metadata": {
    "scrolled": true
   },
   "outputs": [
    {
     "data": {
      "application/vnd.jupyter.widget-view+json": {
       "model_id": "ae4e20b57e964a2eb685e1ff95e3ffb4",
       "version_major": 2,
       "version_minor": 0
      },
      "text/plain": [
       "  0%|          | 0/25 [00:00<?, ?it/s]"
      ]
     },
     "metadata": {},
     "output_type": "display_data"
    },
    {
     "name": "stderr",
     "output_type": "stream",
     "text": [
      "C:\\Users\\Yaroslav Pristalov\\AppData\\Local\\Temp\\ipykernel_11936\\3120089230.py:12: UserWarning: Creating legend with loc=\"best\" can be slow with large amounts of data.\n",
      "  plt.savefig(f'../../visualization/images_textstat_features_ordered/{col}.png', dpi=400)\n",
      "C:\\Users\\Yaroslav Pristalov\\AppData\\Local\\Temp\\ipykernel_11936\\3120089230.py:2: RuntimeWarning: More than 20 figures have been opened. Figures created through the pyplot interface (`matplotlib.pyplot.figure`) are retained until explicitly closed and may consume too much memory. (To control this warning, see the rcParam `figure.max_open_warning`). Consider using `matplotlib.pyplot.close()`.\n",
      "  plt.figure(figsize=(10, 6))\n"
     ]
    },
    {
     "data": {
      "text/plain": [
       "<Figure size 1000x600 with 0 Axes>"
      ]
     },
     "metadata": {},
     "output_type": "display_data"
    },
    {
     "data": {
      "text/plain": [
       "<Figure size 1000x600 with 0 Axes>"
      ]
     },
     "metadata": {},
     "output_type": "display_data"
    },
    {
     "data": {
      "text/plain": [
       "<Figure size 1000x600 with 0 Axes>"
      ]
     },
     "metadata": {},
     "output_type": "display_data"
    },
    {
     "data": {
      "text/plain": [
       "<Figure size 1000x600 with 0 Axes>"
      ]
     },
     "metadata": {},
     "output_type": "display_data"
    },
    {
     "data": {
      "text/plain": [
       "<Figure size 1000x600 with 0 Axes>"
      ]
     },
     "metadata": {},
     "output_type": "display_data"
    },
    {
     "data": {
      "text/plain": [
       "<Figure size 1000x600 with 0 Axes>"
      ]
     },
     "metadata": {},
     "output_type": "display_data"
    },
    {
     "data": {
      "text/plain": [
       "<Figure size 1000x600 with 0 Axes>"
      ]
     },
     "metadata": {},
     "output_type": "display_data"
    },
    {
     "data": {
      "text/plain": [
       "<Figure size 1000x600 with 0 Axes>"
      ]
     },
     "metadata": {},
     "output_type": "display_data"
    },
    {
     "data": {
      "text/plain": [
       "<Figure size 1000x600 with 0 Axes>"
      ]
     },
     "metadata": {},
     "output_type": "display_data"
    },
    {
     "data": {
      "text/plain": [
       "<Figure size 1000x600 with 0 Axes>"
      ]
     },
     "metadata": {},
     "output_type": "display_data"
    },
    {
     "data": {
      "text/plain": [
       "<Figure size 1000x600 with 0 Axes>"
      ]
     },
     "metadata": {},
     "output_type": "display_data"
    },
    {
     "data": {
      "text/plain": [
       "<Figure size 1000x600 with 0 Axes>"
      ]
     },
     "metadata": {},
     "output_type": "display_data"
    },
    {
     "data": {
      "text/plain": [
       "<Figure size 1000x600 with 0 Axes>"
      ]
     },
     "metadata": {},
     "output_type": "display_data"
    },
    {
     "data": {
      "text/plain": [
       "<Figure size 1000x600 with 0 Axes>"
      ]
     },
     "metadata": {},
     "output_type": "display_data"
    },
    {
     "data": {
      "text/plain": [
       "<Figure size 1000x600 with 0 Axes>"
      ]
     },
     "metadata": {},
     "output_type": "display_data"
    },
    {
     "data": {
      "text/plain": [
       "<Figure size 1000x600 with 0 Axes>"
      ]
     },
     "metadata": {},
     "output_type": "display_data"
    },
    {
     "data": {
      "text/plain": [
       "<Figure size 1000x600 with 0 Axes>"
      ]
     },
     "metadata": {},
     "output_type": "display_data"
    },
    {
     "data": {
      "text/plain": [
       "<Figure size 1000x600 with 0 Axes>"
      ]
     },
     "metadata": {},
     "output_type": "display_data"
    },
    {
     "data": {
      "text/plain": [
       "<Figure size 1000x600 with 0 Axes>"
      ]
     },
     "metadata": {},
     "output_type": "display_data"
    },
    {
     "data": {
      "text/plain": [
       "<Figure size 1000x600 with 0 Axes>"
      ]
     },
     "metadata": {},
     "output_type": "display_data"
    },
    {
     "data": {
      "text/plain": [
       "<Figure size 1000x600 with 0 Axes>"
      ]
     },
     "metadata": {},
     "output_type": "display_data"
    },
    {
     "data": {
      "text/plain": [
       "<Figure size 1000x600 with 0 Axes>"
      ]
     },
     "metadata": {},
     "output_type": "display_data"
    },
    {
     "data": {
      "text/plain": [
       "<Figure size 1000x600 with 0 Axes>"
      ]
     },
     "metadata": {},
     "output_type": "display_data"
    },
    {
     "data": {
      "text/plain": [
       "<Figure size 1000x600 with 0 Axes>"
      ]
     },
     "metadata": {},
     "output_type": "display_data"
    },
    {
     "data": {
      "text/plain": [
       "<Figure size 1000x600 with 0 Axes>"
      ]
     },
     "metadata": {},
     "output_type": "display_data"
    }
   ],
   "source": [
    "for col in tqdm(reviews.columns[3:]):\n",
    "    plt.figure(figsize=(10, 6))\n",
    "    for is_AI in (0, 1):\n",
    "        cur_df = reviews.query('is_AI == @is_AI')\n",
    "        plt.bar(range(len(cur_df)), cur_df[col], alpha=0.5, label='generated' if is_AI == 1 else 'real')\n",
    "\n",
    "    plt.title(col)\n",
    "    plt.xlabel('Each review')\n",
    "    plt.ylabel('Values')\n",
    "    plt.grid()\n",
    "    plt.legend()\n",
    "    plt.savefig(f'../../visualization/images_textstat_features_ordered/{col}.png', dpi=400)\n",
    "    plt.clf()"
   ]
  },
  {
   "cell_type": "code",
   "execution_count": 22,
   "id": "bd3e178d-53f1-4e2e-aff4-693f8bd82acf",
   "metadata": {},
   "outputs": [
    {
     "data": {
      "application/vnd.jupyter.widget-view+json": {
       "model_id": "20f56c6041bc48529a401adedac2d65a",
       "version_major": 2,
       "version_minor": 0
      },
      "text/plain": [
       "  0%|          | 0/25 [00:00<?, ?it/s]"
      ]
     },
     "metadata": {},
     "output_type": "display_data"
    },
    {
     "name": "stderr",
     "output_type": "stream",
     "text": [
      "C:\\Users\\Yaroslav Pristalov\\AppData\\Local\\Temp\\ipykernel_11936\\2592155008.py:5: SettingWithCopyWarning: \n",
      "A value is trying to be set on a copy of a slice from a DataFrame\n",
      "\n",
      "See the caveats in the documentation: https://pandas.pydata.org/pandas-docs/stable/user_guide/indexing.html#returning-a-view-versus-a-copy\n",
      "  cur_df.sort_values(col, ascending=False, inplace=True)\n",
      "C:\\Users\\Yaroslav Pristalov\\AppData\\Local\\Temp\\ipykernel_11936\\2592155008.py:13: UserWarning: Creating legend with loc=\"best\" can be slow with large amounts of data.\n",
      "  plt.savefig(f'../../visualization/images_textstat_features_sorted_hist/{col}.png', dpi=400)\n",
      "C:\\Users\\Yaroslav Pristalov\\AppData\\Local\\Temp\\ipykernel_11936\\2592155008.py:2: RuntimeWarning: More than 20 figures have been opened. Figures created through the pyplot interface (`matplotlib.pyplot.figure`) are retained until explicitly closed and may consume too much memory. (To control this warning, see the rcParam `figure.max_open_warning`). Consider using `matplotlib.pyplot.close()`.\n",
      "  plt.figure(figsize=(10, 6))\n"
     ]
    },
    {
     "data": {
      "text/plain": [
       "<Figure size 1000x600 with 0 Axes>"
      ]
     },
     "metadata": {},
     "output_type": "display_data"
    },
    {
     "data": {
      "text/plain": [
       "<Figure size 1000x600 with 0 Axes>"
      ]
     },
     "metadata": {},
     "output_type": "display_data"
    },
    {
     "data": {
      "text/plain": [
       "<Figure size 1000x600 with 0 Axes>"
      ]
     },
     "metadata": {},
     "output_type": "display_data"
    },
    {
     "data": {
      "text/plain": [
       "<Figure size 1000x600 with 0 Axes>"
      ]
     },
     "metadata": {},
     "output_type": "display_data"
    },
    {
     "data": {
      "text/plain": [
       "<Figure size 1000x600 with 0 Axes>"
      ]
     },
     "metadata": {},
     "output_type": "display_data"
    },
    {
     "data": {
      "text/plain": [
       "<Figure size 1000x600 with 0 Axes>"
      ]
     },
     "metadata": {},
     "output_type": "display_data"
    },
    {
     "data": {
      "text/plain": [
       "<Figure size 1000x600 with 0 Axes>"
      ]
     },
     "metadata": {},
     "output_type": "display_data"
    },
    {
     "data": {
      "text/plain": [
       "<Figure size 1000x600 with 0 Axes>"
      ]
     },
     "metadata": {},
     "output_type": "display_data"
    },
    {
     "data": {
      "text/plain": [
       "<Figure size 1000x600 with 0 Axes>"
      ]
     },
     "metadata": {},
     "output_type": "display_data"
    },
    {
     "data": {
      "text/plain": [
       "<Figure size 1000x600 with 0 Axes>"
      ]
     },
     "metadata": {},
     "output_type": "display_data"
    },
    {
     "data": {
      "text/plain": [
       "<Figure size 1000x600 with 0 Axes>"
      ]
     },
     "metadata": {},
     "output_type": "display_data"
    },
    {
     "data": {
      "text/plain": [
       "<Figure size 1000x600 with 0 Axes>"
      ]
     },
     "metadata": {},
     "output_type": "display_data"
    },
    {
     "data": {
      "text/plain": [
       "<Figure size 1000x600 with 0 Axes>"
      ]
     },
     "metadata": {},
     "output_type": "display_data"
    },
    {
     "data": {
      "text/plain": [
       "<Figure size 1000x600 with 0 Axes>"
      ]
     },
     "metadata": {},
     "output_type": "display_data"
    },
    {
     "data": {
      "text/plain": [
       "<Figure size 1000x600 with 0 Axes>"
      ]
     },
     "metadata": {},
     "output_type": "display_data"
    },
    {
     "data": {
      "text/plain": [
       "<Figure size 1000x600 with 0 Axes>"
      ]
     },
     "metadata": {},
     "output_type": "display_data"
    },
    {
     "data": {
      "text/plain": [
       "<Figure size 1000x600 with 0 Axes>"
      ]
     },
     "metadata": {},
     "output_type": "display_data"
    },
    {
     "data": {
      "text/plain": [
       "<Figure size 1000x600 with 0 Axes>"
      ]
     },
     "metadata": {},
     "output_type": "display_data"
    },
    {
     "data": {
      "text/plain": [
       "<Figure size 1000x600 with 0 Axes>"
      ]
     },
     "metadata": {},
     "output_type": "display_data"
    },
    {
     "data": {
      "text/plain": [
       "<Figure size 1000x600 with 0 Axes>"
      ]
     },
     "metadata": {},
     "output_type": "display_data"
    },
    {
     "data": {
      "text/plain": [
       "<Figure size 1000x600 with 0 Axes>"
      ]
     },
     "metadata": {},
     "output_type": "display_data"
    },
    {
     "data": {
      "text/plain": [
       "<Figure size 1000x600 with 0 Axes>"
      ]
     },
     "metadata": {},
     "output_type": "display_data"
    },
    {
     "data": {
      "text/plain": [
       "<Figure size 1000x600 with 0 Axes>"
      ]
     },
     "metadata": {},
     "output_type": "display_data"
    },
    {
     "data": {
      "text/plain": [
       "<Figure size 1000x600 with 0 Axes>"
      ]
     },
     "metadata": {},
     "output_type": "display_data"
    },
    {
     "data": {
      "text/plain": [
       "<Figure size 1000x600 with 0 Axes>"
      ]
     },
     "metadata": {},
     "output_type": "display_data"
    }
   ],
   "source": [
    "for col in tqdm(reviews.columns[3:]):\n",
    "    plt.figure(figsize=(10, 6))\n",
    "    for is_AI in (0, 1):\n",
    "        cur_df = reviews.query('is_AI == @is_AI')\n",
    "        cur_df.sort_values(col, ascending=False, inplace=True)\n",
    "        plt.bar(range(len(cur_df)), cur_df[col], alpha=0.5, label='generated' if is_AI == 1 else 'real')\n",
    "\n",
    "    plt.title(col)\n",
    "    plt.xlabel('Some reviews')\n",
    "    plt.ylabel('Values')\n",
    "    plt.grid()\n",
    "    plt.legend()    \n",
    "    plt.savefig(f'../../visualization/images_textstat_features_sorted_hist/{col}.png', dpi=400)\n",
    "    plt.clf()"
   ]
  },
  {
   "cell_type": "markdown",
   "id": "0afb64c0-fc2f-41d0-9fb5-173fdb5ce348",
   "metadata": {},
   "source": [
    "### `ydata_profiling`"
   ]
  },
  {
   "cell_type": "code",
   "execution_count": 34,
   "id": "1b449ae3-e9f1-445d-939d-7027545c258a",
   "metadata": {},
   "outputs": [],
   "source": [
    "# !pip install ydata_profiling"
   ]
  },
  {
   "cell_type": "code",
   "execution_count": 23,
   "id": "02b430c0-2b9f-401a-ba8c-801d310cb0ab",
   "metadata": {},
   "outputs": [],
   "source": [
    "from ydata_profiling import ProfileReport\n",
    "\n",
    "profile = ProfileReport(reviews.iloc[:, :3], title=\"Profiling Report\")"
   ]
  },
  {
   "cell_type": "code",
   "execution_count": 24,
   "id": "47148108-a87f-4651-bb28-2af1de9cdd9b",
   "metadata": {},
   "outputs": [
    {
     "data": {
      "application/vnd.jupyter.widget-view+json": {
       "model_id": "d440b6ac8ebf4038a78933134d793b9d",
       "version_major": 2,
       "version_minor": 0
      },
      "text/plain": [
       "Summarize dataset:   0%|          | 0/5 [00:00<?, ?it/s]"
      ]
     },
     "metadata": {},
     "output_type": "display_data"
    },
    {
     "name": "stderr",
     "output_type": "stream",
     "text": [
      "D:\\ProgramData\\anaconda3\\envs\\kaggle\\lib\\site-packages\\ydata_profiling\\model\\typeset.py:125: FutureWarning: is_categorical_dtype is deprecated and will be removed in a future version. Use isinstance(dtype, CategoricalDtype) instead\n",
      "  not pdt.is_categorical_dtype(series)\n",
      "D:\\ProgramData\\anaconda3\\envs\\kaggle\\lib\\site-packages\\ydata_profiling\\model\\typeset.py:208: FutureWarning: is_categorical_dtype is deprecated and will be removed in a future version. Use isinstance(dtype, CategoricalDtype) instead\n",
      "  is_valid_dtype = pdt.is_categorical_dtype(series) and not pdt.is_bool_dtype(\n",
      "D:\\ProgramData\\anaconda3\\envs\\kaggle\\lib\\site-packages\\ydata_profiling\\model\\typeset.py:125: FutureWarning: is_categorical_dtype is deprecated and will be removed in a future version. Use isinstance(dtype, CategoricalDtype) instead\n",
      "  not pdt.is_categorical_dtype(series)\n",
      "D:\\ProgramData\\anaconda3\\envs\\kaggle\\lib\\site-packages\\ydata_profiling\\model\\typeset_relations.py:34: FutureWarning: is_categorical_dtype is deprecated and will be removed in a future version. Use isinstance(dtype, CategoricalDtype) instead\n",
      "  if pdt.is_categorical_dtype(series):\n",
      "D:\\ProgramData\\anaconda3\\envs\\kaggle\\lib\\site-packages\\ydata_profiling\\model\\typeset.py:208: FutureWarning: is_categorical_dtype is deprecated and will be removed in a future version. Use isinstance(dtype, CategoricalDtype) instead\n",
      "  is_valid_dtype = pdt.is_categorical_dtype(series) and not pdt.is_bool_dtype(\n",
      "D:\\ProgramData\\anaconda3\\envs\\kaggle\\lib\\site-packages\\ydata_profiling\\model\\typeset.py:125: FutureWarning: is_categorical_dtype is deprecated and will be removed in a future version. Use isinstance(dtype, CategoricalDtype) instead\n",
      "  not pdt.is_categorical_dtype(series)\n",
      "D:\\ProgramData\\anaconda3\\envs\\kaggle\\lib\\site-packages\\ydata_profiling\\model\\typeset_relations.py:34: FutureWarning: is_categorical_dtype is deprecated and will be removed in a future version. Use isinstance(dtype, CategoricalDtype) instead\n",
      "  if pdt.is_categorical_dtype(series):\n",
      "D:\\ProgramData\\anaconda3\\envs\\kaggle\\lib\\site-packages\\ydata_profiling\\model\\typeset.py:208: FutureWarning: is_categorical_dtype is deprecated and will be removed in a future version. Use isinstance(dtype, CategoricalDtype) instead\n",
      "  is_valid_dtype = pdt.is_categorical_dtype(series) and not pdt.is_bool_dtype(\n",
      "D:\\ProgramData\\anaconda3\\envs\\kaggle\\lib\\site-packages\\ydata_profiling\\model\\typeset.py:125: FutureWarning: is_categorical_dtype is deprecated and will be removed in a future version. Use isinstance(dtype, CategoricalDtype) instead\n",
      "  not pdt.is_categorical_dtype(series)\n",
      "D:\\ProgramData\\anaconda3\\envs\\kaggle\\lib\\site-packages\\ydata_profiling\\model\\typeset_relations.py:34: FutureWarning: is_categorical_dtype is deprecated and will be removed in a future version. Use isinstance(dtype, CategoricalDtype) instead\n",
      "  if pdt.is_categorical_dtype(series):\n",
      "D:\\ProgramData\\anaconda3\\envs\\kaggle\\lib\\site-packages\\ydata_profiling\\model\\typeset.py:208: FutureWarning: is_categorical_dtype is deprecated and will be removed in a future version. Use isinstance(dtype, CategoricalDtype) instead\n",
      "  is_valid_dtype = pdt.is_categorical_dtype(series) and not pdt.is_bool_dtype(\n",
      "D:\\ProgramData\\anaconda3\\envs\\kaggle\\lib\\site-packages\\ydata_profiling\\model\\typeset.py:125: FutureWarning: is_categorical_dtype is deprecated and will be removed in a future version. Use isinstance(dtype, CategoricalDtype) instead\n",
      "  not pdt.is_categorical_dtype(series)\n",
      "D:\\ProgramData\\anaconda3\\envs\\kaggle\\lib\\site-packages\\ydata_profiling\\model\\typeset_relations.py:34: FutureWarning: is_categorical_dtype is deprecated and will be removed in a future version. Use isinstance(dtype, CategoricalDtype) instead\n",
      "  if pdt.is_categorical_dtype(series):\n"
     ]
    },
    {
     "data": {
      "application/vnd.jupyter.widget-view+json": {
       "model_id": "6a93ea027c164c89b3746a47863e95d9",
       "version_major": 2,
       "version_minor": 0
      },
      "text/plain": [
       "Generate report structure:   0%|          | 0/1 [00:00<?, ?it/s]"
      ]
     },
     "metadata": {},
     "output_type": "display_data"
    },
    {
     "data": {
      "application/vnd.jupyter.widget-view+json": {
       "model_id": "13eca1dc65e24a50b1fd61168221098d",
       "version_major": 2,
       "version_minor": 0
      },
      "text/plain": [
       "Render HTML:   0%|          | 0/1 [00:00<?, ?it/s]"
      ]
     },
     "metadata": {},
     "output_type": "display_data"
    }
   ],
   "source": [
    "with open('ydata_profiling.html', 'wt', encoding='UTF-8') as f:\n",
    "    f.write(profile.to_html())"
   ]
  },
  {
   "cell_type": "code",
   "execution_count": 25,
   "id": "4f831973-7b1e-400e-9681-fbb2daf793fc",
   "metadata": {},
   "outputs": [
    {
     "data": {
      "text/html": [
       "<div>\n",
       "<style scoped>\n",
       "    .dataframe tbody tr th:only-of-type {\n",
       "        vertical-align: middle;\n",
       "    }\n",
       "\n",
       "    .dataframe tbody tr th {\n",
       "        vertical-align: top;\n",
       "    }\n",
       "\n",
       "    .dataframe thead th {\n",
       "        text-align: right;\n",
       "    }\n",
       "</style>\n",
       "<table border=\"1\" class=\"dataframe\">\n",
       "  <thead>\n",
       "    <tr style=\"text-align: right;\">\n",
       "      <th></th>\n",
       "      <th>review</th>\n",
       "      <th>is_AI</th>\n",
       "      <th>processed_text</th>\n",
       "      <th>automated_readability_index</th>\n",
       "      <th>avg_letter_per_word</th>\n",
       "      <th>avg_sentence_length</th>\n",
       "      <th>avg_sentence_per_word</th>\n",
       "      <th>char_count</th>\n",
       "      <th>coleman_liau_index</th>\n",
       "      <th>crawford</th>\n",
       "      <th>...</th>\n",
       "      <th>linsear_write_formula</th>\n",
       "      <th>lix</th>\n",
       "      <th>long_word_count</th>\n",
       "      <th>mcalpine_eflaw</th>\n",
       "      <th>miniword_count</th>\n",
       "      <th>monosyllabcount</th>\n",
       "      <th>reading_time</th>\n",
       "      <th>sentence_count</th>\n",
       "      <th>syllable_count</th>\n",
       "      <th>words_per_sentence</th>\n",
       "    </tr>\n",
       "  </thead>\n",
       "  <tbody>\n",
       "    <tr>\n",
       "      <th>0</th>\n",
       "      <td>Жаль, крем не оправдал ожиданий. Заявленный эф...</td>\n",
       "      <td>1</td>\n",
       "      <td>жаль , крем не оправдать ожидание . заявить эф...</td>\n",
       "      <td>11.5</td>\n",
       "      <td>6.20</td>\n",
       "      <td>3.8</td>\n",
       "      <td>0.27</td>\n",
       "      <td>99</td>\n",
       "      <td>12.17</td>\n",
       "      <td>-4.1</td>\n",
       "      <td>...</td>\n",
       "      <td>0.875000</td>\n",
       "      <td>50.47</td>\n",
       "      <td>7</td>\n",
       "      <td>4.5</td>\n",
       "      <td>3</td>\n",
       "      <td>15</td>\n",
       "      <td>1.45</td>\n",
       "      <td>4</td>\n",
       "      <td>15</td>\n",
       "      <td>3.750000</td>\n",
       "    </tr>\n",
       "    <tr>\n",
       "      <th>1</th>\n",
       "      <td>Платье красивое, но мне пришло с браком, очень...</td>\n",
       "      <td>0</td>\n",
       "      <td>платье красивый , прийти брак , очень неприятно</td>\n",
       "      <td>8.2</td>\n",
       "      <td>5.11</td>\n",
       "      <td>9.0</td>\n",
       "      <td>0.11</td>\n",
       "      <td>48</td>\n",
       "      <td>10.58</td>\n",
       "      <td>-0.9</td>\n",
       "      <td>...</td>\n",
       "      <td>3.500000</td>\n",
       "      <td>42.33</td>\n",
       "      <td>2</td>\n",
       "      <td>12.0</td>\n",
       "      <td>3</td>\n",
       "      <td>9</td>\n",
       "      <td>0.71</td>\n",
       "      <td>1</td>\n",
       "      <td>9</td>\n",
       "      <td>9.000000</td>\n",
       "    </tr>\n",
       "    <tr>\n",
       "      <th>2</th>\n",
       "      <td>Посылка пришла в непотребном виде.Получила на ...</td>\n",
       "      <td>0</td>\n",
       "      <td>посылка прийти непотребный вид . получить почт...</td>\n",
       "      <td>13.1</td>\n",
       "      <td>6.30</td>\n",
       "      <td>6.7</td>\n",
       "      <td>0.15</td>\n",
       "      <td>265</td>\n",
       "      <td>16.30</td>\n",
       "      <td>-1.7</td>\n",
       "      <td>...</td>\n",
       "      <td>2.333333</td>\n",
       "      <td>54.20</td>\n",
       "      <td>19</td>\n",
       "      <td>8.3</td>\n",
       "      <td>10</td>\n",
       "      <td>40</td>\n",
       "      <td>3.89</td>\n",
       "      <td>6</td>\n",
       "      <td>40</td>\n",
       "      <td>6.666667</td>\n",
       "    </tr>\n",
       "    <tr>\n",
       "      <th>3</th>\n",
       "      <td>Маленький принц’, 12+, оказался совсем не мале...</td>\n",
       "      <td>1</td>\n",
       "      <td>маленький принц ’ , 12 + , оказаться не малень...</td>\n",
       "      <td>7.5</td>\n",
       "      <td>5.17</td>\n",
       "      <td>5.8</td>\n",
       "      <td>0.17</td>\n",
       "      <td>160</td>\n",
       "      <td>9.15</td>\n",
       "      <td>-2.1</td>\n",
       "      <td>...</td>\n",
       "      <td>1.900000</td>\n",
       "      <td>47.18</td>\n",
       "      <td>10</td>\n",
       "      <td>8.0</td>\n",
       "      <td>11</td>\n",
       "      <td>29</td>\n",
       "      <td>2.35</td>\n",
       "      <td>5</td>\n",
       "      <td>29</td>\n",
       "      <td>5.800000</td>\n",
       "    </tr>\n",
       "    <tr>\n",
       "      <th>4</th>\n",
       "      <td>Адовая синтетика, но что за такую цену можно в...</td>\n",
       "      <td>0</td>\n",
       "      <td>адовый синтетик , цена впринцип ожидать</td>\n",
       "      <td>7.2</td>\n",
       "      <td>4.82</td>\n",
       "      <td>11.0</td>\n",
       "      <td>0.09</td>\n",
       "      <td>54</td>\n",
       "      <td>9.49</td>\n",
       "      <td>-0.5</td>\n",
       "      <td>...</td>\n",
       "      <td>4.500000</td>\n",
       "      <td>38.27</td>\n",
       "      <td>3</td>\n",
       "      <td>15.0</td>\n",
       "      <td>4</td>\n",
       "      <td>11</td>\n",
       "      <td>0.79</td>\n",
       "      <td>1</td>\n",
       "      <td>11</td>\n",
       "      <td>11.000000</td>\n",
       "    </tr>\n",
       "    <tr>\n",
       "      <th>...</th>\n",
       "      <td>...</td>\n",
       "      <td>...</td>\n",
       "      <td>...</td>\n",
       "      <td>...</td>\n",
       "      <td>...</td>\n",
       "      <td>...</td>\n",
       "      <td>...</td>\n",
       "      <td>...</td>\n",
       "      <td>...</td>\n",
       "      <td>...</td>\n",
       "      <td>...</td>\n",
       "      <td>...</td>\n",
       "      <td>...</td>\n",
       "      <td>...</td>\n",
       "      <td>...</td>\n",
       "      <td>...</td>\n",
       "      <td>...</td>\n",
       "      <td>...</td>\n",
       "      <td>...</td>\n",
       "      <td>...</td>\n",
       "      <td>...</td>\n",
       "    </tr>\n",
       "    <tr>\n",
       "      <th>4685</th>\n",
       "      <td>Платье полностью не соответствует размеруXXL,к...</td>\n",
       "      <td>0</td>\n",
       "      <td>платье полностью не соответствовать размер xxl...</td>\n",
       "      <td>9.4</td>\n",
       "      <td>5.42</td>\n",
       "      <td>8.7</td>\n",
       "      <td>0.12</td>\n",
       "      <td>146</td>\n",
       "      <td>12.08</td>\n",
       "      <td>-1.0</td>\n",
       "      <td>...</td>\n",
       "      <td>3.333333</td>\n",
       "      <td>31.78</td>\n",
       "      <td>6</td>\n",
       "      <td>12.0</td>\n",
       "      <td>10</td>\n",
       "      <td>26</td>\n",
       "      <td>2.14</td>\n",
       "      <td>3</td>\n",
       "      <td>26</td>\n",
       "      <td>8.666667</td>\n",
       "    </tr>\n",
       "    <tr>\n",
       "      <th>4686</th>\n",
       "      <td>Качество хорошее, свитер пушистый. Но размер н...</td>\n",
       "      <td>0</td>\n",
       "      <td>качество хороший , свитер пушистый . размер не...</td>\n",
       "      <td>9.6</td>\n",
       "      <td>5.66</td>\n",
       "      <td>5.8</td>\n",
       "      <td>0.17</td>\n",
       "      <td>173</td>\n",
       "      <td>12.00</td>\n",
       "      <td>-2.1</td>\n",
       "      <td>...</td>\n",
       "      <td>2.000000</td>\n",
       "      <td>42.47</td>\n",
       "      <td>11</td>\n",
       "      <td>8.0</td>\n",
       "      <td>11</td>\n",
       "      <td>29</td>\n",
       "      <td>2.54</td>\n",
       "      <td>5</td>\n",
       "      <td>29</td>\n",
       "      <td>5.800000</td>\n",
       "    </tr>\n",
       "    <tr>\n",
       "      <th>4687</th>\n",
       "      <td>Три месяца ждала заказ , так и не дождалась.\\r...</td>\n",
       "      <td>0</td>\n",
       "      <td>месяц ждать заказ , не дождаться . не рекоменд...</td>\n",
       "      <td>6.6</td>\n",
       "      <td>4.60</td>\n",
       "      <td>10.0</td>\n",
       "      <td>0.10</td>\n",
       "      <td>49</td>\n",
       "      <td>7.92</td>\n",
       "      <td>-0.7</td>\n",
       "      <td>...</td>\n",
       "      <td>4.500000</td>\n",
       "      <td>28.18</td>\n",
       "      <td>2</td>\n",
       "      <td>15.0</td>\n",
       "      <td>5</td>\n",
       "      <td>10</td>\n",
       "      <td>0.72</td>\n",
       "      <td>1</td>\n",
       "      <td>10</td>\n",
       "      <td>10.000000</td>\n",
       "    </tr>\n",
       "    <tr>\n",
       "      <th>4688</th>\n",
       "      <td>Заказ не пришёл. Деньги вернули</td>\n",
       "      <td>0</td>\n",
       "      <td>заказ не прийти . деньга вернуть</td>\n",
       "      <td>6.5</td>\n",
       "      <td>5.20</td>\n",
       "      <td>5.0</td>\n",
       "      <td>0.20</td>\n",
       "      <td>27</td>\n",
       "      <td>8.44</td>\n",
       "      <td>-2.7</td>\n",
       "      <td>...</td>\n",
       "      <td>1.500000</td>\n",
       "      <td>45.00</td>\n",
       "      <td>1</td>\n",
       "      <td>6.0</td>\n",
       "      <td>1</td>\n",
       "      <td>5</td>\n",
       "      <td>0.40</td>\n",
       "      <td>1</td>\n",
       "      <td>5</td>\n",
       "      <td>5.000000</td>\n",
       "    </tr>\n",
       "    <tr>\n",
       "      <th>4689</th>\n",
       "      <td>Отличные брюки. Тёмно-синий цвет подходит к мо...</td>\n",
       "      <td>1</td>\n",
       "      <td>отличный брюки . тёмно-синий цвет подходить ко...</td>\n",
       "      <td>6.7</td>\n",
       "      <td>5.00</td>\n",
       "      <td>6.8</td>\n",
       "      <td>0.15</td>\n",
       "      <td>142</td>\n",
       "      <td>8.76</td>\n",
       "      <td>-1.6</td>\n",
       "      <td>...</td>\n",
       "      <td>2.375000</td>\n",
       "      <td>32.73</td>\n",
       "      <td>7</td>\n",
       "      <td>8.3</td>\n",
       "      <td>6</td>\n",
       "      <td>27</td>\n",
       "      <td>2.09</td>\n",
       "      <td>4</td>\n",
       "      <td>27</td>\n",
       "      <td>6.750000</td>\n",
       "    </tr>\n",
       "  </tbody>\n",
       "</table>\n",
       "<p>23446 rows × 28 columns</p>\n",
       "</div>"
      ],
      "text/plain": [
       "                                                 review  is_AI  \\\n",
       "0     Жаль, крем не оправдал ожиданий. Заявленный эф...      1   \n",
       "1     Платье красивое, но мне пришло с браком, очень...      0   \n",
       "2     Посылка пришла в непотребном виде.Получила на ...      0   \n",
       "3     Маленький принц’, 12+, оказался совсем не мале...      1   \n",
       "4     Адовая синтетика, но что за такую цену можно в...      0   \n",
       "...                                                 ...    ...   \n",
       "4685  Платье полностью не соответствует размеруXXL,к...      0   \n",
       "4686  Качество хорошее, свитер пушистый. Но размер н...      0   \n",
       "4687  Три месяца ждала заказ , так и не дождалась.\\r...      0   \n",
       "4688                   Заказ не пришёл. Деньги вернули       0   \n",
       "4689  Отличные брюки. Тёмно-синий цвет подходит к мо...      1   \n",
       "\n",
       "                                         processed_text  \\\n",
       "0     жаль , крем не оправдать ожидание . заявить эф...   \n",
       "1       платье красивый , прийти брак , очень неприятно   \n",
       "2     посылка прийти непотребный вид . получить почт...   \n",
       "3     маленький принц ’ , 12 + , оказаться не малень...   \n",
       "4               адовый синтетик , цена впринцип ожидать   \n",
       "...                                                 ...   \n",
       "4685  платье полностью не соответствовать размер xxl...   \n",
       "4686  качество хороший , свитер пушистый . размер не...   \n",
       "4687  месяц ждать заказ , не дождаться . не рекоменд...   \n",
       "4688                   заказ не прийти . деньга вернуть   \n",
       "4689  отличный брюки . тёмно-синий цвет подходить ко...   \n",
       "\n",
       "      automated_readability_index  avg_letter_per_word  avg_sentence_length  \\\n",
       "0                            11.5                 6.20                  3.8   \n",
       "1                             8.2                 5.11                  9.0   \n",
       "2                            13.1                 6.30                  6.7   \n",
       "3                             7.5                 5.17                  5.8   \n",
       "4                             7.2                 4.82                 11.0   \n",
       "...                           ...                  ...                  ...   \n",
       "4685                          9.4                 5.42                  8.7   \n",
       "4686                          9.6                 5.66                  5.8   \n",
       "4687                          6.6                 4.60                 10.0   \n",
       "4688                          6.5                 5.20                  5.0   \n",
       "4689                          6.7                 5.00                  6.8   \n",
       "\n",
       "      avg_sentence_per_word  char_count  coleman_liau_index  crawford  ...  \\\n",
       "0                      0.27          99               12.17      -4.1  ...   \n",
       "1                      0.11          48               10.58      -0.9  ...   \n",
       "2                      0.15         265               16.30      -1.7  ...   \n",
       "3                      0.17         160                9.15      -2.1  ...   \n",
       "4                      0.09          54                9.49      -0.5  ...   \n",
       "...                     ...         ...                 ...       ...  ...   \n",
       "4685                   0.12         146               12.08      -1.0  ...   \n",
       "4686                   0.17         173               12.00      -2.1  ...   \n",
       "4687                   0.10          49                7.92      -0.7  ...   \n",
       "4688                   0.20          27                8.44      -2.7  ...   \n",
       "4689                   0.15         142                8.76      -1.6  ...   \n",
       "\n",
       "      linsear_write_formula    lix  long_word_count  mcalpine_eflaw  \\\n",
       "0                  0.875000  50.47                7             4.5   \n",
       "1                  3.500000  42.33                2            12.0   \n",
       "2                  2.333333  54.20               19             8.3   \n",
       "3                  1.900000  47.18               10             8.0   \n",
       "4                  4.500000  38.27                3            15.0   \n",
       "...                     ...    ...              ...             ...   \n",
       "4685               3.333333  31.78                6            12.0   \n",
       "4686               2.000000  42.47               11             8.0   \n",
       "4687               4.500000  28.18                2            15.0   \n",
       "4688               1.500000  45.00                1             6.0   \n",
       "4689               2.375000  32.73                7             8.3   \n",
       "\n",
       "      miniword_count  monosyllabcount  reading_time  sentence_count  \\\n",
       "0                  3               15          1.45               4   \n",
       "1                  3                9          0.71               1   \n",
       "2                 10               40          3.89               6   \n",
       "3                 11               29          2.35               5   \n",
       "4                  4               11          0.79               1   \n",
       "...              ...              ...           ...             ...   \n",
       "4685              10               26          2.14               3   \n",
       "4686              11               29          2.54               5   \n",
       "4687               5               10          0.72               1   \n",
       "4688               1                5          0.40               1   \n",
       "4689               6               27          2.09               4   \n",
       "\n",
       "      syllable_count  words_per_sentence  \n",
       "0                 15            3.750000  \n",
       "1                  9            9.000000  \n",
       "2                 40            6.666667  \n",
       "3                 29            5.800000  \n",
       "4                 11           11.000000  \n",
       "...              ...                 ...  \n",
       "4685              26            8.666667  \n",
       "4686              29            5.800000  \n",
       "4687              10           10.000000  \n",
       "4688               5            5.000000  \n",
       "4689              27            6.750000  \n",
       "\n",
       "[23446 rows x 28 columns]"
      ]
     },
     "execution_count": 25,
     "metadata": {},
     "output_type": "execute_result"
    }
   ],
   "source": [
    "reviews"
   ]
  },
  {
   "cell_type": "markdown",
   "id": "55852b58-6dd2-4fa0-a1a0-17b0fdc5fc39",
   "metadata": {},
   "source": [
    "---"
   ]
  },
  {
   "cell_type": "code",
   "execution_count": 48,
   "id": "0ca4fb93-ab58-4e8b-99be-3114ea84b8e1",
   "metadata": {},
   "outputs": [
    {
     "name": "stdout",
     "output_type": "stream",
     "text": [
      "(29288, 28)\n",
      "(26367, 28)\n"
     ]
    }
   ],
   "source": [
    "print(reviews.shape)\n",
    "print(reviews.drop_duplicates('review').shape)"
   ]
  },
  {
   "cell_type": "code",
   "execution_count": 53,
   "id": "cd33ab4f-2fd7-41de-977a-fd78df41e971",
   "metadata": {},
   "outputs": [],
   "source": [
    "reviews.drop_duplicates('review')[['review', 'is_AI']].to_csv('unique_reviews.csv', index=False)"
   ]
  },
  {
   "cell_type": "code",
   "execution_count": 55,
   "id": "bec540d5-cc95-488f-8abb-1738bfd7d976",
   "metadata": {},
   "outputs": [
    {
     "data": {
      "text/html": [
       "<div>\n",
       "<style scoped>\n",
       "    .dataframe tbody tr th:only-of-type {\n",
       "        vertical-align: middle;\n",
       "    }\n",
       "\n",
       "    .dataframe tbody tr th {\n",
       "        vertical-align: top;\n",
       "    }\n",
       "\n",
       "    .dataframe thead th {\n",
       "        text-align: right;\n",
       "    }\n",
       "</style>\n",
       "<table border=\"1\" class=\"dataframe\">\n",
       "  <thead>\n",
       "    <tr style=\"text-align: right;\">\n",
       "      <th></th>\n",
       "      <th>review</th>\n",
       "      <th>is_AI</th>\n",
       "    </tr>\n",
       "  </thead>\n",
       "  <tbody>\n",
       "    <tr>\n",
       "      <th>0</th>\n",
       "      <td>Продавец выслал не тот цвет, я очень расстроил...</td>\n",
       "      <td>0</td>\n",
       "    </tr>\n",
       "    <tr>\n",
       "      <th>1</th>\n",
       "      <td>Отличные часы! Купил их для подруги. Качество ...</td>\n",
       "      <td>1</td>\n",
       "    </tr>\n",
       "    <tr>\n",
       "      <th>2</th>\n",
       "      <td>редкостная дрянь....</td>\n",
       "      <td>0</td>\n",
       "    </tr>\n",
       "    <tr>\n",
       "      <th>3</th>\n",
       "      <td>Купил отцу этот фильтр, он доволен. Но я счита...</td>\n",
       "      <td>1</td>\n",
       "    </tr>\n",
       "    <tr>\n",
       "      <th>4</th>\n",
       "      <td>Купил подгузники Huggies Elite Soft для моей с...</td>\n",
       "      <td>1</td>\n",
       "    </tr>\n",
       "    <tr>\n",
       "      <th>...</th>\n",
       "      <td>...</td>\n",
       "      <td>...</td>\n",
       "    </tr>\n",
       "    <tr>\n",
       "      <th>26362</th>\n",
       "      <td>Отличная зубная паста. Хорошо пенится. Вкус и ...</td>\n",
       "      <td>1</td>\n",
       "    </tr>\n",
       "    <tr>\n",
       "      <th>26363</th>\n",
       "      <td>Купил витамины для волос после рекомендации тр...</td>\n",
       "      <td>1</td>\n",
       "    </tr>\n",
       "    <tr>\n",
       "      <th>26364</th>\n",
       "      <td>Коллега будет доволен. Вещь хорошая\\n</td>\n",
       "      <td>1</td>\n",
       "    </tr>\n",
       "    <tr>\n",
       "      <th>26365</th>\n",
       "      <td>ужасные шорты. в реальности сильно отличаются ...</td>\n",
       "      <td>0</td>\n",
       "    </tr>\n",
       "    <tr>\n",
       "      <th>26366</th>\n",
       "      <td>Ужасный продавец. Ни товара, ни денег!!! Прожд...</td>\n",
       "      <td>0</td>\n",
       "    </tr>\n",
       "  </tbody>\n",
       "</table>\n",
       "<p>26367 rows × 2 columns</p>\n",
       "</div>"
      ],
      "text/plain": [
       "                                                  review  is_AI\n",
       "0      Продавец выслал не тот цвет, я очень расстроил...      0\n",
       "1      Отличные часы! Купил их для подруги. Качество ...      1\n",
       "2                                   редкостная дрянь....      0\n",
       "3      Купил отцу этот фильтр, он доволен. Но я счита...      1\n",
       "4      Купил подгузники Huggies Elite Soft для моей с...      1\n",
       "...                                                  ...    ...\n",
       "26362  Отличная зубная паста. Хорошо пенится. Вкус и ...      1\n",
       "26363  Купил витамины для волос после рекомендации тр...      1\n",
       "26364              Коллега будет доволен. Вещь хорошая\\n      1\n",
       "26365  ужасные шорты. в реальности сильно отличаются ...      0\n",
       "26366  Ужасный продавец. Ни товара, ни денег!!! Прожд...      0\n",
       "\n",
       "[26367 rows x 2 columns]"
      ]
     },
     "execution_count": 55,
     "metadata": {},
     "output_type": "execute_result"
    }
   ],
   "source": [
    "new_reviews = pd.read_csv('./unique_reviews.csv')\n",
    "new_reviews"
   ]
  },
  {
   "cell_type": "code",
   "execution_count": 67,
   "id": "cd9a53cc-d09d-4019-b45e-b6a237c65f83",
   "metadata": {},
   "outputs": [
    {
     "data": {
      "text/plain": [
       "is_AI\n",
       "0    14644\n",
       "1    11723\n",
       "Name: count, dtype: int64"
      ]
     },
     "execution_count": 67,
     "metadata": {},
     "output_type": "execute_result"
    }
   ],
   "source": [
    "new_reviews.is_AI.value_counts()"
   ]
  },
  {
   "cell_type": "code",
   "execution_count": 72,
   "id": "da7384c7-a00a-4f3a-ac84-1800646969ab",
   "metadata": {},
   "outputs": [
    {
     "data": {
      "text/html": [
       "<div>\n",
       "<style scoped>\n",
       "    .dataframe tbody tr th:only-of-type {\n",
       "        vertical-align: middle;\n",
       "    }\n",
       "\n",
       "    .dataframe tbody tr th {\n",
       "        vertical-align: top;\n",
       "    }\n",
       "\n",
       "    .dataframe thead th {\n",
       "        text-align: right;\n",
       "    }\n",
       "</style>\n",
       "<table border=\"1\" class=\"dataframe\">\n",
       "  <thead>\n",
       "    <tr style=\"text-align: right;\">\n",
       "      <th></th>\n",
       "      <th>review</th>\n",
       "      <th>is_AI</th>\n",
       "    </tr>\n",
       "  </thead>\n",
       "  <tbody>\n",
       "    <tr>\n",
       "      <th>0</th>\n",
       "      <td>Здравствуйте! Качество куртки плохое, сама кур...</td>\n",
       "      <td>0</td>\n",
       "    </tr>\n",
       "    <tr>\n",
       "      <th>1</th>\n",
       "      <td>Штаны приятные к телу,но не такие как на фото,...</td>\n",
       "      <td>0</td>\n",
       "    </tr>\n",
       "    <tr>\n",
       "      <th>2</th>\n",
       "      <td>очень плохое качество товара, швы не ровные, з...</td>\n",
       "      <td>0</td>\n",
       "    </tr>\n",
       "    <tr>\n",
       "      <th>3</th>\n",
       "      <td>Заказывал размер  XL. но товар не соответствуе...</td>\n",
       "      <td>0</td>\n",
       "    </tr>\n",
       "    <tr>\n",
       "      <th>4</th>\n",
       "      <td>продавец отправил на на тот адрес, ходя я неод...</td>\n",
       "      <td>0</td>\n",
       "    </tr>\n",
       "    <tr>\n",
       "      <th>...</th>\n",
       "      <td>...</td>\n",
       "      <td>...</td>\n",
       "    </tr>\n",
       "    <tr>\n",
       "      <th>23441</th>\n",
       "      <td>Я купил беспроводные наушники Xiaomi Redmi Bud...</td>\n",
       "      <td>1</td>\n",
       "    </tr>\n",
       "    <tr>\n",
       "      <th>23442</th>\n",
       "      <td>Пылесос пришёл в помятой коробке. Это говорит ...</td>\n",
       "      <td>1</td>\n",
       "    </tr>\n",
       "    <tr>\n",
       "      <th>23443</th>\n",
       "      <td>Отличная зубная паста. Хорошо пенится. Вкус и ...</td>\n",
       "      <td>1</td>\n",
       "    </tr>\n",
       "    <tr>\n",
       "      <th>23444</th>\n",
       "      <td>Купил витамины для волос после рекомендации тр...</td>\n",
       "      <td>1</td>\n",
       "    </tr>\n",
       "    <tr>\n",
       "      <th>23445</th>\n",
       "      <td>Коллега будет доволен. Вещь хорошая\\n</td>\n",
       "      <td>1</td>\n",
       "    </tr>\n",
       "  </tbody>\n",
       "</table>\n",
       "<p>23446 rows × 2 columns</p>\n",
       "</div>"
      ],
      "text/plain": [
       "                                                  review  is_AI\n",
       "0      Здравствуйте! Качество куртки плохое, сама кур...      0\n",
       "1      Штаны приятные к телу,но не такие как на фото,...      0\n",
       "2      очень плохое качество товара, швы не ровные, з...      0\n",
       "3      Заказывал размер  XL. но товар не соответствуе...      0\n",
       "4      продавец отправил на на тот адрес, ходя я неод...      0\n",
       "...                                                  ...    ...\n",
       "23441  Я купил беспроводные наушники Xiaomi Redmi Bud...      1\n",
       "23442  Пылесос пришёл в помятой коробке. Это говорит ...      1\n",
       "23443  Отличная зубная паста. Хорошо пенится. Вкус и ...      1\n",
       "23444  Купил витамины для волос после рекомендации тр...      1\n",
       "23445              Коллега будет доволен. Вещь хорошая\\n      1\n",
       "\n",
       "[23446 rows x 2 columns]"
      ]
     },
     "execution_count": 72,
     "metadata": {},
     "output_type": "execute_result"
    }
   ],
   "source": [
    "new_reviews = pd.concat([new_reviews.query('is_AI == 0').sample(11723), new_reviews.query('is_AI == 1')], axis=0).reset_index(drop=True)\n",
    "new_reviews"
   ]
  },
  {
   "cell_type": "code",
   "execution_count": 76,
   "id": "1f603496-136d-4e33-910e-75da2cfb0dbd",
   "metadata": {},
   "outputs": [
    {
     "data": {
      "text/plain": [
       "is_AI\n",
       "0    11723\n",
       "1    11723\n",
       "Name: count, dtype: int64"
      ]
     },
     "execution_count": 76,
     "metadata": {},
     "output_type": "execute_result"
    }
   ],
   "source": [
    "new_reviews.is_AI.value_counts()"
   ]
  },
  {
   "cell_type": "code",
   "execution_count": 79,
   "id": "9164bb80-7cf8-4ed9-b1d4-f2a896301502",
   "metadata": {},
   "outputs": [],
   "source": [
    "train, test = train_test_split(new_reviews, test_size=0.2, random_state=42)"
   ]
  },
  {
   "cell_type": "code",
   "execution_count": 80,
   "id": "52253258-95a7-4646-81cf-373867451bee",
   "metadata": {},
   "outputs": [
    {
     "data": {
      "text/plain": [
       "is_AI\n",
       "1    9391\n",
       "0    9365\n",
       "Name: count, dtype: int64"
      ]
     },
     "execution_count": 80,
     "metadata": {},
     "output_type": "execute_result"
    }
   ],
   "source": [
    "train.is_AI.value_counts()"
   ]
  },
  {
   "cell_type": "code",
   "execution_count": 81,
   "id": "6e01d9c1-2ab0-44e2-98b2-b30da1e9df99",
   "metadata": {},
   "outputs": [
    {
     "data": {
      "text/plain": [
       "is_AI\n",
       "0    2358\n",
       "1    2332\n",
       "Name: count, dtype: int64"
      ]
     },
     "execution_count": 81,
     "metadata": {},
     "output_type": "execute_result"
    }
   ],
   "source": [
    "test.is_AI.value_counts()"
   ]
  },
  {
   "cell_type": "code",
   "execution_count": 85,
   "id": "c7a34e6a-c460-4ac8-a998-b9ab86d2e135",
   "metadata": {},
   "outputs": [],
   "source": [
    "train.reset_index(inplace=True, drop=True)\n",
    "test.reset_index(inplace=True, drop=True)"
   ]
  },
  {
   "cell_type": "code",
   "execution_count": 86,
   "id": "a2a5b1b6-7350-40d7-af15-aadc499c15e2",
   "metadata": {},
   "outputs": [],
   "source": [
    "train.to_csv('train_unique_reviews.csv', index=False)\n",
    "test.to_csv('test_unique_reviews.csv', index=False)"
   ]
  },
  {
   "cell_type": "code",
   "execution_count": 89,
   "id": "bf2ed49f-c987-4dd3-aeff-f4337efe1999",
   "metadata": {},
   "outputs": [
    {
     "data": {
      "text/html": [
       "<div>\n",
       "<style scoped>\n",
       "    .dataframe tbody tr th:only-of-type {\n",
       "        vertical-align: middle;\n",
       "    }\n",
       "\n",
       "    .dataframe tbody tr th {\n",
       "        vertical-align: top;\n",
       "    }\n",
       "\n",
       "    .dataframe thead th {\n",
       "        text-align: right;\n",
       "    }\n",
       "</style>\n",
       "<table border=\"1\" class=\"dataframe\">\n",
       "  <thead>\n",
       "    <tr style=\"text-align: right;\">\n",
       "      <th></th>\n",
       "      <th>review</th>\n",
       "      <th>is_AI</th>\n",
       "    </tr>\n",
       "  </thead>\n",
       "  <tbody>\n",
       "    <tr>\n",
       "      <th>0</th>\n",
       "      <td>Цвет не тот. Не тянется. Ужасное качество</td>\n",
       "      <td>0</td>\n",
       "    </tr>\n",
       "    <tr>\n",
       "      <th>1</th>\n",
       "      <td>Мне не понравился этот гольф, хоть он и мягок ...</td>\n",
       "      <td>0</td>\n",
       "    </tr>\n",
       "    <tr>\n",
       "      <th>2</th>\n",
       "      <td>пришел с браком- дырка большая на спинке. День...</td>\n",
       "      <td>0</td>\n",
       "    </tr>\n",
       "    <tr>\n",
       "      <th>3</th>\n",
       "      <td>Не подошли по размеру. Размер L оказался мне м...</td>\n",
       "      <td>1</td>\n",
       "    </tr>\n",
       "    <tr>\n",
       "      <th>4</th>\n",
       "      <td>Книга отличная, но не для детей 10+, а для дош...</td>\n",
       "      <td>1</td>\n",
       "    </tr>\n",
       "    <tr>\n",
       "      <th>...</th>\n",
       "      <td>...</td>\n",
       "      <td>...</td>\n",
       "    </tr>\n",
       "    <tr>\n",
       "      <th>4685</th>\n",
       "      <td>Платье полностью не соответствует размеруXXL,к...</td>\n",
       "      <td>0</td>\n",
       "    </tr>\n",
       "    <tr>\n",
       "      <th>4686</th>\n",
       "      <td>Качество хорошее, свитер пушистый. Но размер н...</td>\n",
       "      <td>0</td>\n",
       "    </tr>\n",
       "    <tr>\n",
       "      <th>4687</th>\n",
       "      <td>Три месяца ждала заказ , так и не дождалась.\\r...</td>\n",
       "      <td>0</td>\n",
       "    </tr>\n",
       "    <tr>\n",
       "      <th>4688</th>\n",
       "      <td>Заказ не пришёл. Деньги вернули</td>\n",
       "      <td>0</td>\n",
       "    </tr>\n",
       "    <tr>\n",
       "      <th>4689</th>\n",
       "      <td>Отличные брюки. Тёмно-синий цвет подходит к мо...</td>\n",
       "      <td>1</td>\n",
       "    </tr>\n",
       "  </tbody>\n",
       "</table>\n",
       "<p>4690 rows × 2 columns</p>\n",
       "</div>"
      ],
      "text/plain": [
       "                                                 review  is_AI\n",
       "0            Цвет не тот. Не тянется. Ужасное качество       0\n",
       "1     Мне не понравился этот гольф, хоть он и мягок ...      0\n",
       "2     пришел с браком- дырка большая на спинке. День...      0\n",
       "3     Не подошли по размеру. Размер L оказался мне м...      1\n",
       "4     Книга отличная, но не для детей 10+, а для дош...      1\n",
       "...                                                 ...    ...\n",
       "4685  Платье полностью не соответствует размеруXXL,к...      0\n",
       "4686  Качество хорошее, свитер пушистый. Но размер н...      0\n",
       "4687  Три месяца ждала заказ , так и не дождалась.\\r...      0\n",
       "4688                   Заказ не пришёл. Деньги вернули       0\n",
       "4689  Отличные брюки. Тёмно-синий цвет подходит к мо...      1\n",
       "\n",
       "[4690 rows x 2 columns]"
      ]
     },
     "execution_count": 89,
     "metadata": {},
     "output_type": "execute_result"
    }
   ],
   "source": [
    "pd.read_csv('test_unique_reviews.csv')"
   ]
  },
  {
   "cell_type": "code",
   "execution_count": null,
   "id": "0e2796f7-4f9e-4f7f-aea8-a912310985e0",
   "metadata": {},
   "outputs": [],
   "source": []
  }
 ],
 "metadata": {
  "kernelspec": {
   "display_name": "Python 3 (ipykernel)",
   "language": "python",
   "name": "python3"
  },
  "language_info": {
   "codemirror_mode": {
    "name": "ipython",
    "version": 3
   },
   "file_extension": ".py",
   "mimetype": "text/x-python",
   "name": "python",
   "nbconvert_exporter": "python",
   "pygments_lexer": "ipython3",
   "version": "3.9.0"
  }
 },
 "nbformat": 4,
 "nbformat_minor": 5
}
